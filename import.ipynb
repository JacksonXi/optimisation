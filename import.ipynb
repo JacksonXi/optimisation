{
  "nbformat": 4,
  "nbformat_minor": 0,
  "metadata": {
    "colab": {
      "name": "import.ipynb",
      "provenance": [],
      "authorship_tag": "ABX9TyMjR3qR/tBUcEf/6S5pb7NW",
      "include_colab_link": true
    },
    "kernelspec": {
      "name": "python3",
      "display_name": "Python 3"
    },
    "language_info": {
      "name": "python"
    }
  },
  "cells": [
    {
      "cell_type": "markdown",
      "metadata": {
        "id": "view-in-github",
        "colab_type": "text"
      },
      "source": [
        "<a href=\"https://colab.research.google.com/github/JacksonXi/optimisation/blob/main/import.ipynb\" target=\"_parent\"><img src=\"https://colab.research.google.com/assets/colab-badge.svg\" alt=\"Open In Colab\"/></a>"
      ]
    },
    {
      "cell_type": "code",
      "metadata": {
        "colab": {
          "base_uri": "https://localhost:8080/"
        },
        "id": "XqVuRQ50OisJ",
        "outputId": "8d857a84-c1d9-4d27-ff94-9f307c8ae4ba"
      },
      "source": [
        "import shutil\n",
        "import sys\n",
        "import os.path\n",
        "import numpy as np\n",
        "import pandas as pd\n",
        "\n",
        "if not shutil.which(\"pyomo\"):\n",
        "    !pip install -q pyomo\n",
        "    assert(shutil.which(\"pyomo\"))\n",
        "\n",
        "if not (shutil.which(\"cbc\") or os.path.isfile(\"cbc\")):\n",
        "    if \"google.colab\" in sys.modules:\n",
        "        !apt-get install -y -qq coinor-cbc\n",
        "    else:\n",
        "        try:\n",
        "            !conda install -c conda-forge coincbc \n",
        "        except:\n",
        "            pass\n",
        "\n",
        "assert(shutil.which(\"cbc\") or os.path.isfile(\"cbc\"))\n",
        "    \n",
        "from pyomo.environ import *\n"
      ],
      "execution_count": 1,
      "outputs": [
        {
          "output_type": "stream",
          "text": [
            "\u001b[K     |████████████████████████████████| 8.9 MB 4.6 MB/s \n",
            "\u001b[K     |████████████████████████████████| 49 kB 4.7 MB/s \n",
            "\u001b[?25hSelecting previously unselected package coinor-libcoinutils3v5.\n",
            "(Reading database ... 160837 files and directories currently installed.)\n",
            "Preparing to unpack .../0-coinor-libcoinutils3v5_2.10.14+repack1-1_amd64.deb ...\n",
            "Unpacking coinor-libcoinutils3v5 (2.10.14+repack1-1) ...\n",
            "Selecting previously unselected package coinor-libosi1v5.\n",
            "Preparing to unpack .../1-coinor-libosi1v5_0.107.9+repack1-1_amd64.deb ...\n",
            "Unpacking coinor-libosi1v5 (0.107.9+repack1-1) ...\n",
            "Selecting previously unselected package coinor-libclp1.\n",
            "Preparing to unpack .../2-coinor-libclp1_1.16.11+repack1-1_amd64.deb ...\n",
            "Unpacking coinor-libclp1 (1.16.11+repack1-1) ...\n",
            "Selecting previously unselected package coinor-libcgl1.\n",
            "Preparing to unpack .../3-coinor-libcgl1_0.59.10+repack1-1_amd64.deb ...\n",
            "Unpacking coinor-libcgl1 (0.59.10+repack1-1) ...\n",
            "Selecting previously unselected package coinor-libcbc3.\n",
            "Preparing to unpack .../4-coinor-libcbc3_2.9.9+repack1-1_amd64.deb ...\n",
            "Unpacking coinor-libcbc3 (2.9.9+repack1-1) ...\n",
            "Selecting previously unselected package coinor-cbc.\n",
            "Preparing to unpack .../5-coinor-cbc_2.9.9+repack1-1_amd64.deb ...\n",
            "Unpacking coinor-cbc (2.9.9+repack1-1) ...\n",
            "Setting up coinor-libcoinutils3v5 (2.10.14+repack1-1) ...\n",
            "Setting up coinor-libosi1v5 (0.107.9+repack1-1) ...\n",
            "Setting up coinor-libclp1 (1.16.11+repack1-1) ...\n",
            "Setting up coinor-libcgl1 (0.59.10+repack1-1) ...\n",
            "Setting up coinor-libcbc3 (2.9.9+repack1-1) ...\n",
            "Setting up coinor-cbc (2.9.9+repack1-1) ...\n",
            "Processing triggers for man-db (2.8.3-2ubuntu0.1) ...\n",
            "Processing triggers for libc-bin (2.27-3ubuntu1.2) ...\n",
            "/sbin/ldconfig.real: /usr/local/lib/python3.7/dist-packages/ideep4py/lib/libmkldnn.so.0 is not a symbolic link\n",
            "\n"
          ],
          "name": "stdout"
        }
      ]
    },
    {
      "cell_type": "code",
      "metadata": {
        "colab": {
          "base_uri": "https://localhost:8080/"
        },
        "id": "2lXD_GZzT69z",
        "outputId": "33714f64-f0b4-481b-a724-1c7f4ac62dd4"
      },
      "source": [
        "!git clone https://github.com/JacksonXi/optimisation"
      ],
      "execution_count": 2,
      "outputs": [
        {
          "output_type": "stream",
          "text": [
            "Cloning into 'optimisation'...\n",
            "remote: Enumerating objects: 49, done.\u001b[K\n",
            "remote: Counting objects: 100% (49/49), done.\u001b[K\n",
            "remote: Compressing objects: 100% (40/40), done.\u001b[K\n",
            "remote: Total 49 (delta 8), reused 0 (delta 0), pack-reused 0\u001b[K\n",
            "Unpacking objects: 100% (49/49), done.\n"
          ],
          "name": "stdout"
        }
      ]
    },
    {
      "cell_type": "code",
      "metadata": {
        "colab": {
          "base_uri": "https://localhost:8080/"
        },
        "id": "RAwEBcveqmNX",
        "outputId": "92f04ed6-9164-4f85-d1a8-8d47d62489ab"
      },
      "source": [
        "cd /content/optimisation/import"
      ],
      "execution_count": 3,
      "outputs": [
        {
          "output_type": "stream",
          "text": [
            "/content/optimisation/import\n"
          ],
          "name": "stdout"
        }
      ]
    },
    {
      "cell_type": "markdown",
      "metadata": {
        "id": "Gx3upp2MI3WG"
      },
      "source": [
        "**Generated energy < non-controlable energy**\n",
        "\n",
        "\n"
      ]
    },
    {
      "cell_type": "code",
      "metadata": {
        "colab": {
          "base_uri": "https://localhost:8080/",
          "height": 359
        },
        "id": "Ap_jzdMCO027",
        "outputId": "4d4a8fd8-bbaa-422e-ad78-92f48e3926d1"
      },
      "source": [
        "Flexibleindex = pd.read_csv(\"flexibleIndex.csv\")\n",
        "Flexibleindex"
      ],
      "execution_count": 4,
      "outputs": [
        {
          "output_type": "execute_result",
          "data": {
            "text/html": [
              "<div>\n",
              "<style scoped>\n",
              "    .dataframe tbody tr th:only-of-type {\n",
              "        vertical-align: middle;\n",
              "    }\n",
              "\n",
              "    .dataframe tbody tr th {\n",
              "        vertical-align: top;\n",
              "    }\n",
              "\n",
              "    .dataframe thead th {\n",
              "        text-align: right;\n",
              "    }\n",
              "</style>\n",
              "<table border=\"1\" class=\"dataframe\">\n",
              "  <thead>\n",
              "    <tr style=\"text-align: right;\">\n",
              "      <th></th>\n",
              "      <th>Unnamed: 0</th>\n",
              "      <th>TV</th>\n",
              "      <th>Heater</th>\n",
              "      <th>WashingMachine</th>\n",
              "      <th>Dryer</th>\n",
              "      <th>Fridger</th>\n",
              "      <th>Airconditioner</th>\n",
              "      <th>InductionCooker</th>\n",
              "    </tr>\n",
              "  </thead>\n",
              "  <tbody>\n",
              "    <tr>\n",
              "      <th>0</th>\n",
              "      <td>C1</td>\n",
              "      <td>0</td>\n",
              "      <td>0</td>\n",
              "      <td>1</td>\n",
              "      <td>1</td>\n",
              "      <td>0</td>\n",
              "      <td>1</td>\n",
              "      <td>0</td>\n",
              "    </tr>\n",
              "    <tr>\n",
              "      <th>1</th>\n",
              "      <td>C2</td>\n",
              "      <td>1</td>\n",
              "      <td>0</td>\n",
              "      <td>1</td>\n",
              "      <td>0</td>\n",
              "      <td>0</td>\n",
              "      <td>1</td>\n",
              "      <td>0</td>\n",
              "    </tr>\n",
              "    <tr>\n",
              "      <th>2</th>\n",
              "      <td>C3</td>\n",
              "      <td>1</td>\n",
              "      <td>0</td>\n",
              "      <td>0</td>\n",
              "      <td>1</td>\n",
              "      <td>0</td>\n",
              "      <td>1</td>\n",
              "      <td>0</td>\n",
              "    </tr>\n",
              "    <tr>\n",
              "      <th>3</th>\n",
              "      <td>C4</td>\n",
              "      <td>0</td>\n",
              "      <td>1</td>\n",
              "      <td>0</td>\n",
              "      <td>1</td>\n",
              "      <td>1</td>\n",
              "      <td>0</td>\n",
              "      <td>1</td>\n",
              "    </tr>\n",
              "    <tr>\n",
              "      <th>4</th>\n",
              "      <td>C5</td>\n",
              "      <td>1</td>\n",
              "      <td>0</td>\n",
              "      <td>1</td>\n",
              "      <td>0</td>\n",
              "      <td>1</td>\n",
              "      <td>0</td>\n",
              "      <td>0</td>\n",
              "    </tr>\n",
              "    <tr>\n",
              "      <th>5</th>\n",
              "      <td>C6</td>\n",
              "      <td>0</td>\n",
              "      <td>1</td>\n",
              "      <td>0</td>\n",
              "      <td>1</td>\n",
              "      <td>0</td>\n",
              "      <td>1</td>\n",
              "      <td>0</td>\n",
              "    </tr>\n",
              "    <tr>\n",
              "      <th>6</th>\n",
              "      <td>C7</td>\n",
              "      <td>0</td>\n",
              "      <td>0</td>\n",
              "      <td>0</td>\n",
              "      <td>1</td>\n",
              "      <td>0</td>\n",
              "      <td>1</td>\n",
              "      <td>1</td>\n",
              "    </tr>\n",
              "    <tr>\n",
              "      <th>7</th>\n",
              "      <td>C8</td>\n",
              "      <td>1</td>\n",
              "      <td>0</td>\n",
              "      <td>0</td>\n",
              "      <td>1</td>\n",
              "      <td>0</td>\n",
              "      <td>0</td>\n",
              "      <td>1</td>\n",
              "    </tr>\n",
              "    <tr>\n",
              "      <th>8</th>\n",
              "      <td>C9</td>\n",
              "      <td>0</td>\n",
              "      <td>0</td>\n",
              "      <td>0</td>\n",
              "      <td>1</td>\n",
              "      <td>0</td>\n",
              "      <td>0</td>\n",
              "      <td>0</td>\n",
              "    </tr>\n",
              "    <tr>\n",
              "      <th>9</th>\n",
              "      <td>C10</td>\n",
              "      <td>1</td>\n",
              "      <td>1</td>\n",
              "      <td>1</td>\n",
              "      <td>0</td>\n",
              "      <td>0</td>\n",
              "      <td>0</td>\n",
              "      <td>1</td>\n",
              "    </tr>\n",
              "  </tbody>\n",
              "</table>\n",
              "</div>"
            ],
            "text/plain": [
              "  Unnamed: 0  TV  Heater  ...  Fridger  Airconditioner  InductionCooker\n",
              "0         C1   0       0  ...        0               1                0\n",
              "1         C2   1       0  ...        0               1                0\n",
              "2         C3   1       0  ...        0               1                0\n",
              "3         C4   0       1  ...        1               0                1\n",
              "4         C5   1       0  ...        1               0                0\n",
              "5         C6   0       1  ...        0               1                0\n",
              "6         C7   0       0  ...        0               1                1\n",
              "7         C8   1       0  ...        0               0                1\n",
              "8         C9   0       0  ...        0               0                0\n",
              "9        C10   1       1  ...        0               0                1\n",
              "\n",
              "[10 rows x 8 columns]"
            ]
          },
          "metadata": {
            "tags": []
          },
          "execution_count": 4
        }
      ]
    },
    {
      "cell_type": "markdown",
      "metadata": {
        "id": "h36MzavqBSJJ"
      },
      "source": [
        "**Obtain consumer ID**"
      ]
    },
    {
      "cell_type": "code",
      "metadata": {
        "colab": {
          "base_uri": "https://localhost:8080/"
        },
        "id": "jzW0r8F3O-eI",
        "outputId": "7b0cbe77-926e-42a9-d38b-7aca2185c436"
      },
      "source": [
        "Consumer = list(Flexibleindex['Unnamed: 0'])\n",
        "Consumer1 = list(Flexibleindex['Unnamed: 0'])\n",
        "Consumer"
      ],
      "execution_count": 5,
      "outputs": [
        {
          "output_type": "execute_result",
          "data": {
            "text/plain": [
              "['C1', 'C2', 'C3', 'C4', 'C5', 'C6', 'C7', 'C8', 'C9', 'C10']"
            ]
          },
          "metadata": {
            "tags": []
          },
          "execution_count": 5
        }
      ]
    },
    {
      "cell_type": "code",
      "metadata": {
        "id": "w2an3kqIsC9-",
        "colab": {
          "base_uri": "https://localhost:8080/"
        },
        "outputId": "3a43215c-dc4a-4575-d567-0fbf7c6ed0e4"
      },
      "source": [
        "flexibleindex = pd.read_csv(\"flexibleIndex.csv\", index_col=0)\n",
        "print(flexibleindex)"
      ],
      "execution_count": 6,
      "outputs": [
        {
          "output_type": "stream",
          "text": [
            "     TV  Heater  WashingMachine  ...  Fridger  Airconditioner  InductionCooker\n",
            "C1    0       0               1  ...        0               1                0\n",
            "C2    1       0               1  ...        0               1                0\n",
            "C3    1       0               0  ...        0               1                0\n",
            "C4    0       1               0  ...        1               0                1\n",
            "C5    1       0               1  ...        1               0                0\n",
            "C6    0       1               0  ...        0               1                0\n",
            "C7    0       0               0  ...        0               1                1\n",
            "C8    1       0               0  ...        0               0                1\n",
            "C9    0       0               0  ...        0               0                0\n",
            "C10   1       1               1  ...        0               0                1\n",
            "\n",
            "[10 rows x 7 columns]\n"
          ],
          "name": "stdout"
        }
      ]
    },
    {
      "cell_type": "markdown",
      "metadata": {
        "id": "0q_O583cBXKs"
      },
      "source": [
        "**Obtain flexibleindex during peak hours**\n",
        "\n",
        "**0: ON**\n",
        "\n",
        "**1: OFF**"
      ]
    },
    {
      "cell_type": "code",
      "metadata": {
        "colab": {
          "base_uri": "https://localhost:8080/",
          "height": 359
        },
        "id": "iIVGM2tkDwLf",
        "outputId": "a6a497b4-d798-42b2-b88c-f02cdbf804e5"
      },
      "source": [
        "power = pd.read_csv('power.csv', index_col=0)\n",
        "power"
      ],
      "execution_count": 7,
      "outputs": [
        {
          "output_type": "execute_result",
          "data": {
            "text/html": [
              "<div>\n",
              "<style scoped>\n",
              "    .dataframe tbody tr th:only-of-type {\n",
              "        vertical-align: middle;\n",
              "    }\n",
              "\n",
              "    .dataframe tbody tr th {\n",
              "        vertical-align: top;\n",
              "    }\n",
              "\n",
              "    .dataframe thead th {\n",
              "        text-align: right;\n",
              "    }\n",
              "</style>\n",
              "<table border=\"1\" class=\"dataframe\">\n",
              "  <thead>\n",
              "    <tr style=\"text-align: right;\">\n",
              "      <th></th>\n",
              "      <th>TV</th>\n",
              "      <th>Heater</th>\n",
              "      <th>WashingMachine</th>\n",
              "      <th>Dryer</th>\n",
              "      <th>Fridger</th>\n",
              "      <th>Airconditioner</th>\n",
              "      <th>InductionCooker</th>\n",
              "    </tr>\n",
              "  </thead>\n",
              "  <tbody>\n",
              "    <tr>\n",
              "      <th>C1</th>\n",
              "      <td>2</td>\n",
              "      <td>4</td>\n",
              "      <td>4</td>\n",
              "      <td>8</td>\n",
              "      <td>2</td>\n",
              "      <td>5</td>\n",
              "      <td>5</td>\n",
              "    </tr>\n",
              "    <tr>\n",
              "      <th>C2</th>\n",
              "      <td>2</td>\n",
              "      <td>7</td>\n",
              "      <td>4</td>\n",
              "      <td>5</td>\n",
              "      <td>1</td>\n",
              "      <td>3</td>\n",
              "      <td>5</td>\n",
              "    </tr>\n",
              "    <tr>\n",
              "      <th>C3</th>\n",
              "      <td>2</td>\n",
              "      <td>5</td>\n",
              "      <td>2</td>\n",
              "      <td>5</td>\n",
              "      <td>2</td>\n",
              "      <td>4</td>\n",
              "      <td>4</td>\n",
              "    </tr>\n",
              "    <tr>\n",
              "      <th>C4</th>\n",
              "      <td>2</td>\n",
              "      <td>8</td>\n",
              "      <td>3</td>\n",
              "      <td>5</td>\n",
              "      <td>1</td>\n",
              "      <td>4</td>\n",
              "      <td>4</td>\n",
              "    </tr>\n",
              "    <tr>\n",
              "      <th>C5</th>\n",
              "      <td>2</td>\n",
              "      <td>5</td>\n",
              "      <td>4</td>\n",
              "      <td>5</td>\n",
              "      <td>2</td>\n",
              "      <td>3</td>\n",
              "      <td>6</td>\n",
              "    </tr>\n",
              "    <tr>\n",
              "      <th>C6</th>\n",
              "      <td>1</td>\n",
              "      <td>6</td>\n",
              "      <td>2</td>\n",
              "      <td>6</td>\n",
              "      <td>1</td>\n",
              "      <td>5</td>\n",
              "      <td>5</td>\n",
              "    </tr>\n",
              "    <tr>\n",
              "      <th>C7</th>\n",
              "      <td>1</td>\n",
              "      <td>7</td>\n",
              "      <td>4</td>\n",
              "      <td>5</td>\n",
              "      <td>1</td>\n",
              "      <td>5</td>\n",
              "      <td>6</td>\n",
              "    </tr>\n",
              "    <tr>\n",
              "      <th>C8</th>\n",
              "      <td>1</td>\n",
              "      <td>7</td>\n",
              "      <td>2</td>\n",
              "      <td>6</td>\n",
              "      <td>1</td>\n",
              "      <td>3</td>\n",
              "      <td>4</td>\n",
              "    </tr>\n",
              "    <tr>\n",
              "      <th>C9</th>\n",
              "      <td>1</td>\n",
              "      <td>4</td>\n",
              "      <td>4</td>\n",
              "      <td>6</td>\n",
              "      <td>1</td>\n",
              "      <td>5</td>\n",
              "      <td>5</td>\n",
              "    </tr>\n",
              "    <tr>\n",
              "      <th>C10</th>\n",
              "      <td>2</td>\n",
              "      <td>8</td>\n",
              "      <td>2</td>\n",
              "      <td>5</td>\n",
              "      <td>1</td>\n",
              "      <td>4</td>\n",
              "      <td>5</td>\n",
              "    </tr>\n",
              "  </tbody>\n",
              "</table>\n",
              "</div>"
            ],
            "text/plain": [
              "     TV  Heater  WashingMachine  ...  Fridger  Airconditioner  InductionCooker\n",
              "C1    2       4               4  ...        2               5                5\n",
              "C2    2       7               4  ...        1               3                5\n",
              "C3    2       5               2  ...        2               4                4\n",
              "C4    2       8               3  ...        1               4                4\n",
              "C5    2       5               4  ...        2               3                6\n",
              "C6    1       6               2  ...        1               5                5\n",
              "C7    1       7               4  ...        1               5                6\n",
              "C8    1       7               2  ...        1               3                4\n",
              "C9    1       4               4  ...        1               5                5\n",
              "C10   2       8               2  ...        1               4                5\n",
              "\n",
              "[10 rows x 7 columns]"
            ]
          },
          "metadata": {
            "tags": []
          },
          "execution_count": 7
        }
      ]
    },
    {
      "cell_type": "code",
      "metadata": {
        "colab": {
          "base_uri": "https://localhost:8080/",
          "height": 359
        },
        "id": "YMMfqwHyEKhq",
        "outputId": "3d4c9768-c4d6-4bb8-8db4-050760979148"
      },
      "source": [
        "bid = pd.read_csv('bid.csv', index_col=0)\n",
        "bid"
      ],
      "execution_count": 8,
      "outputs": [
        {
          "output_type": "execute_result",
          "data": {
            "text/html": [
              "<div>\n",
              "<style scoped>\n",
              "    .dataframe tbody tr th:only-of-type {\n",
              "        vertical-align: middle;\n",
              "    }\n",
              "\n",
              "    .dataframe tbody tr th {\n",
              "        vertical-align: top;\n",
              "    }\n",
              "\n",
              "    .dataframe thead th {\n",
              "        text-align: right;\n",
              "    }\n",
              "</style>\n",
              "<table border=\"1\" class=\"dataframe\">\n",
              "  <thead>\n",
              "    <tr style=\"text-align: right;\">\n",
              "      <th></th>\n",
              "      <th>bid</th>\n",
              "    </tr>\n",
              "  </thead>\n",
              "  <tbody>\n",
              "    <tr>\n",
              "      <th>C1</th>\n",
              "      <td>18</td>\n",
              "    </tr>\n",
              "    <tr>\n",
              "      <th>C2</th>\n",
              "      <td>15</td>\n",
              "    </tr>\n",
              "    <tr>\n",
              "      <th>C3</th>\n",
              "      <td>19</td>\n",
              "    </tr>\n",
              "    <tr>\n",
              "      <th>C4</th>\n",
              "      <td>21</td>\n",
              "    </tr>\n",
              "    <tr>\n",
              "      <th>C5</th>\n",
              "      <td>22</td>\n",
              "    </tr>\n",
              "    <tr>\n",
              "      <th>C6</th>\n",
              "      <td>20</td>\n",
              "    </tr>\n",
              "    <tr>\n",
              "      <th>C7</th>\n",
              "      <td>17</td>\n",
              "    </tr>\n",
              "    <tr>\n",
              "      <th>C8</th>\n",
              "      <td>16</td>\n",
              "    </tr>\n",
              "    <tr>\n",
              "      <th>C9</th>\n",
              "      <td>18</td>\n",
              "    </tr>\n",
              "    <tr>\n",
              "      <th>C10</th>\n",
              "      <td>21</td>\n",
              "    </tr>\n",
              "  </tbody>\n",
              "</table>\n",
              "</div>"
            ],
            "text/plain": [
              "     bid\n",
              "C1    18\n",
              "C2    15\n",
              "C3    19\n",
              "C4    21\n",
              "C5    22\n",
              "C6    20\n",
              "C7    17\n",
              "C8    16\n",
              "C9    18\n",
              "C10   21"
            ]
          },
          "metadata": {
            "tags": []
          },
          "execution_count": 8
        }
      ]
    },
    {
      "cell_type": "code",
      "metadata": {
        "colab": {
          "base_uri": "https://localhost:8080/",
          "height": 359
        },
        "id": "Zf0cwHFCEZi5",
        "outputId": "6122875e-30e0-4db5-ecca-2f3eea1c134d"
      },
      "source": [
        "demand = pd.read_csv('demand.csv', index_col=0)\n",
        "demand"
      ],
      "execution_count": 9,
      "outputs": [
        {
          "output_type": "execute_result",
          "data": {
            "text/html": [
              "<div>\n",
              "<style scoped>\n",
              "    .dataframe tbody tr th:only-of-type {\n",
              "        vertical-align: middle;\n",
              "    }\n",
              "\n",
              "    .dataframe tbody tr th {\n",
              "        vertical-align: top;\n",
              "    }\n",
              "\n",
              "    .dataframe thead th {\n",
              "        text-align: right;\n",
              "    }\n",
              "</style>\n",
              "<table border=\"1\" class=\"dataframe\">\n",
              "  <thead>\n",
              "    <tr style=\"text-align: right;\">\n",
              "      <th></th>\n",
              "      <th>demand</th>\n",
              "    </tr>\n",
              "  </thead>\n",
              "  <tbody>\n",
              "    <tr>\n",
              "      <th>C1</th>\n",
              "      <td>3</td>\n",
              "    </tr>\n",
              "    <tr>\n",
              "      <th>C2</th>\n",
              "      <td>13</td>\n",
              "    </tr>\n",
              "    <tr>\n",
              "      <th>C3</th>\n",
              "      <td>1</td>\n",
              "    </tr>\n",
              "    <tr>\n",
              "      <th>C4</th>\n",
              "      <td>1</td>\n",
              "    </tr>\n",
              "    <tr>\n",
              "      <th>C5</th>\n",
              "      <td>5</td>\n",
              "    </tr>\n",
              "    <tr>\n",
              "      <th>C6</th>\n",
              "      <td>3</td>\n",
              "    </tr>\n",
              "    <tr>\n",
              "      <th>C7</th>\n",
              "      <td>4</td>\n",
              "    </tr>\n",
              "    <tr>\n",
              "      <th>C8</th>\n",
              "      <td>6</td>\n",
              "    </tr>\n",
              "    <tr>\n",
              "      <th>C9</th>\n",
              "      <td>8</td>\n",
              "    </tr>\n",
              "    <tr>\n",
              "      <th>C10</th>\n",
              "      <td>5</td>\n",
              "    </tr>\n",
              "  </tbody>\n",
              "</table>\n",
              "</div>"
            ],
            "text/plain": [
              "     demand\n",
              "C1        3\n",
              "C2       13\n",
              "C3        1\n",
              "C4        1\n",
              "C5        5\n",
              "C6        3\n",
              "C7        4\n",
              "C8        6\n",
              "C9        8\n",
              "C10       5"
            ]
          },
          "metadata": {
            "tags": []
          },
          "execution_count": 9
        }
      ]
    },
    {
      "cell_type": "markdown",
      "metadata": {
        "id": "B0WC-sfTBlpb"
      },
      "source": [
        "**Sorting the bid**"
      ]
    },
    {
      "cell_type": "code",
      "metadata": {
        "colab": {
          "base_uri": "https://localhost:8080/"
        },
        "id": "kKfAHMKeqqcB",
        "outputId": "2a11e38c-e43b-4bbf-98a7-fefc2231ad46"
      },
      "source": [
        "n = len(bid)\n",
        "consumer = [] \n",
        "while n != 0:\n",
        "    max = Consumer[0]\n",
        "    for i in range(0,n):\n",
        "      if bid['bid'][max] < bid['bid'][Consumer[i]]:\n",
        "          max = Consumer[i]\n",
        "      else:\n",
        "          max = max\n",
        "    consumer.append(max)      \n",
        "    Consumer.remove(max)\n",
        "    n -= 1\n",
        "print(Consumer)\n",
        "print(consumer)"
      ],
      "execution_count": 10,
      "outputs": [
        {
          "output_type": "stream",
          "text": [
            "[]\n",
            "['C5', 'C4', 'C10', 'C6', 'C3', 'C1', 'C9', 'C7', 'C8', 'C2']\n"
          ],
          "name": "stdout"
        }
      ]
    },
    {
      "cell_type": "code",
      "metadata": {
        "colab": {
          "base_uri": "https://localhost:8080/"
        },
        "id": "qN3W9wpePuib",
        "outputId": "e565ebe2-67d8-488b-e000-3a3c59e40a39"
      },
      "source": [
        "generatedEnergy = pd.read_csv('generated energy.csv')\n",
        "Prosumer = list(generatedEnergy['Unnamed: 0'])\n",
        "Prosumer1 = list(generatedEnergy['Unnamed: 0'])\n",
        "Prosumer"
      ],
      "execution_count": 11,
      "outputs": [
        {
          "output_type": "execute_result",
          "data": {
            "text/plain": [
              "['P1', 'P2', 'P3', 'P4', 'P5', 'P6']"
            ]
          },
          "metadata": {
            "tags": []
          },
          "execution_count": 11
        }
      ]
    },
    {
      "cell_type": "markdown",
      "metadata": {
        "id": "f_vyM-JDBxLr"
      },
      "source": [
        "**Sorting the storage energy**"
      ]
    },
    {
      "cell_type": "code",
      "metadata": {
        "colab": {
          "base_uri": "https://localhost:8080/",
          "height": 235
        },
        "id": "H2MjL3jtEif3",
        "outputId": "4bbfbc25-e78a-4820-8d00-d06c0dc523e0"
      },
      "source": [
        "generated_energy = pd.read_csv('generated energy.csv', index_col=0)\n",
        "generated_energy"
      ],
      "execution_count": 12,
      "outputs": [
        {
          "output_type": "execute_result",
          "data": {
            "text/html": [
              "<div>\n",
              "<style scoped>\n",
              "    .dataframe tbody tr th:only-of-type {\n",
              "        vertical-align: middle;\n",
              "    }\n",
              "\n",
              "    .dataframe tbody tr th {\n",
              "        vertical-align: top;\n",
              "    }\n",
              "\n",
              "    .dataframe thead th {\n",
              "        text-align: right;\n",
              "    }\n",
              "</style>\n",
              "<table border=\"1\" class=\"dataframe\">\n",
              "  <thead>\n",
              "    <tr style=\"text-align: right;\">\n",
              "      <th></th>\n",
              "      <th>generated energy</th>\n",
              "    </tr>\n",
              "  </thead>\n",
              "  <tbody>\n",
              "    <tr>\n",
              "      <th>P1</th>\n",
              "      <td>6</td>\n",
              "    </tr>\n",
              "    <tr>\n",
              "      <th>P2</th>\n",
              "      <td>10</td>\n",
              "    </tr>\n",
              "    <tr>\n",
              "      <th>P3</th>\n",
              "      <td>4</td>\n",
              "    </tr>\n",
              "    <tr>\n",
              "      <th>P4</th>\n",
              "      <td>3</td>\n",
              "    </tr>\n",
              "    <tr>\n",
              "      <th>P5</th>\n",
              "      <td>2</td>\n",
              "    </tr>\n",
              "    <tr>\n",
              "      <th>P6</th>\n",
              "      <td>2</td>\n",
              "    </tr>\n",
              "  </tbody>\n",
              "</table>\n",
              "</div>"
            ],
            "text/plain": [
              "    generated energy\n",
              "P1                 6\n",
              "P2                10\n",
              "P3                 4\n",
              "P4                 3\n",
              "P5                 2\n",
              "P6                 2"
            ]
          },
          "metadata": {
            "tags": []
          },
          "execution_count": 12
        }
      ]
    },
    {
      "cell_type": "code",
      "metadata": {
        "colab": {
          "base_uri": "https://localhost:8080/"
        },
        "id": "K_RZIZgmSZ1-",
        "outputId": "0e63aed8-bec4-493c-c11e-edbc0b5b5d5a"
      },
      "source": [
        "n = len(generated_energy)\n",
        "prosumer = [] \n",
        "while n != 0:\n",
        "    max = Prosumer[0]\n",
        "    for i in range(0,n):\n",
        "      if generated_energy['generated energy'][max] < generated_energy['generated energy'][Prosumer[i]]:\n",
        "          max = Prosumer[i]\n",
        "      else:\n",
        "          max = max\n",
        "    prosumer.append(max)      \n",
        "    Prosumer.remove(max)\n",
        "    n -= 1\n",
        "print(prosumer)\n",
        "print(Prosumer)"
      ],
      "execution_count": 13,
      "outputs": [
        {
          "output_type": "stream",
          "text": [
            "['P2', 'P1', 'P3', 'P4', 'P5', 'P6']\n",
            "[]\n"
          ],
          "name": "stdout"
        }
      ]
    },
    {
      "cell_type": "code",
      "metadata": {
        "id": "BFu3-jiRq8CE",
        "colab": {
          "base_uri": "https://localhost:8080/"
        },
        "outputId": "04086c6c-6e0b-4f01-edaf-ee1f9ddcc2ff"
      },
      "source": [
        "appliances = list(flexibleindex.keys())\n",
        "appliances"
      ],
      "execution_count": 14,
      "outputs": [
        {
          "output_type": "execute_result",
          "data": {
            "text/plain": [
              "['TV',\n",
              " 'Heater',\n",
              " 'WashingMachine',\n",
              " 'Dryer',\n",
              " 'Fridger',\n",
              " 'Airconditioner',\n",
              " 'InductionCooker']"
            ]
          },
          "metadata": {
            "tags": []
          },
          "execution_count": 14
        }
      ]
    },
    {
      "cell_type": "markdown",
      "metadata": {
        "id": "YAZMQr1FB5Nr"
      },
      "source": [
        "**Energy is allocated in the order of the bid amount**"
      ]
    },
    {
      "cell_type": "code",
      "metadata": {
        "colab": {
          "base_uri": "https://localhost:8080/"
        },
        "id": "OLDck7J4rRuj",
        "outputId": "e7988d9b-542b-446d-c709-b9b6129a2943"
      },
      "source": [
        "model = ConcreteModel()\n",
        "model.dual = Suffix(direction=Suffix.IMPORT)\n",
        "\n",
        "model.transport = Var(prosumer, consumer , domain = NonNegativeReals)\n",
        "\n",
        "model.revenue = Objective(expr = sum(model.transport[p, c]*bid['bid'][c] for p in prosumer for c in consumer), \n",
        "                           sense = maximize)\n",
        "\n",
        "model.supply = ConstraintList()\n",
        "for p in prosumer:\n",
        "      model.supply.add(sum(model.transport[p, c] for c in consumer) <= generated_energy['generated energy'][p])\n",
        "\n",
        "model.demand = ConstraintList()\n",
        "for c in consumer:\n",
        "      model.demand.add(sum(model.transport[p, c] for p in prosumer) <= demand['demand'][c])\n",
        "\n",
        "results = SolverFactory('cbc').solve(model)\n",
        "results.write()"
      ],
      "execution_count": 15,
      "outputs": [
        {
          "output_type": "stream",
          "text": [
            "# ==========================================================\n",
            "# = Solver Results                                         =\n",
            "# ==========================================================\n",
            "# ----------------------------------------------------------\n",
            "#   Problem Information\n",
            "# ----------------------------------------------------------\n",
            "Problem: \n",
            "- Name: unknown\n",
            "  Lower bound: 530.0\n",
            "  Upper bound: 530.0\n",
            "  Number of objectives: 1\n",
            "  Number of constraints: 17\n",
            "  Number of variables: 61\n",
            "  Number of nonzeros: 60\n",
            "  Sense: maximize\n",
            "# ----------------------------------------------------------\n",
            "#   Solver Information\n",
            "# ----------------------------------------------------------\n",
            "Solver: \n",
            "- Status: ok\n",
            "  User time: -1.0\n",
            "  System time: 0.0\n",
            "  Wallclock time: 0.0\n",
            "  Termination condition: optimal\n",
            "  Termination message: Model was solved to optimality (subject to tolerances), and an optimal solution is available.\n",
            "  Statistics: \n",
            "    Branch and bound: \n",
            "      Number of bounded subproblems: None\n",
            "      Number of created subproblems: None\n",
            "    Black box: \n",
            "      Number of iterations: 24\n",
            "  Error rc: 0\n",
            "  Time: 0.017849206924438477\n",
            "# ----------------------------------------------------------\n",
            "#   Solution Information\n",
            "# ----------------------------------------------------------\n",
            "Solution: \n",
            "- number of solutions: 0\n",
            "  number of solutions displayed: 0\n"
          ],
          "name": "stdout"
        }
      ]
    },
    {
      "cell_type": "code",
      "metadata": {
        "colab": {
          "base_uri": "https://localhost:8080/"
        },
        "id": "D12HqET5rF6g",
        "outputId": "d0a606ad-7708-401c-8691-86eb7c6d8581"
      },
      "source": [
        "model.pprint()"
      ],
      "execution_count": 16,
      "outputs": [
        {
          "output_type": "stream",
          "text": [
            "5 Set Declarations\n",
            "    demand_index : Size=1, Index=None, Ordered=Insertion\n",
            "        Key  : Dimen : Domain : Size : Members\n",
            "        None :     1 :    Any :   10 : {1, 2, 3, 4, 5, 6, 7, 8, 9, 10}\n",
            "    supply_index : Size=1, Index=None, Ordered=Insertion\n",
            "        Key  : Dimen : Domain : Size : Members\n",
            "        None :     1 :    Any :    6 : {1, 2, 3, 4, 5, 6}\n",
            "    transport_index : Size=1, Index=None, Ordered=True\n",
            "        Key  : Dimen : Domain                              : Size : Members\n",
            "        None :     2 : transport_index_0*transport_index_1 :   60 : {('P2', 'C5'), ('P2', 'C4'), ('P2', 'C10'), ('P2', 'C6'), ('P2', 'C3'), ('P2', 'C1'), ('P2', 'C9'), ('P2', 'C7'), ('P2', 'C8'), ('P2', 'C2'), ('P1', 'C5'), ('P1', 'C4'), ('P1', 'C10'), ('P1', 'C6'), ('P1', 'C3'), ('P1', 'C1'), ('P1', 'C9'), ('P1', 'C7'), ('P1', 'C8'), ('P1', 'C2'), ('P3', 'C5'), ('P3', 'C4'), ('P3', 'C10'), ('P3', 'C6'), ('P3', 'C3'), ('P3', 'C1'), ('P3', 'C9'), ('P3', 'C7'), ('P3', 'C8'), ('P3', 'C2'), ('P4', 'C5'), ('P4', 'C4'), ('P4', 'C10'), ('P4', 'C6'), ('P4', 'C3'), ('P4', 'C1'), ('P4', 'C9'), ('P4', 'C7'), ('P4', 'C8'), ('P4', 'C2'), ('P5', 'C5'), ('P5', 'C4'), ('P5', 'C10'), ('P5', 'C6'), ('P5', 'C3'), ('P5', 'C1'), ('P5', 'C9'), ('P5', 'C7'), ('P5', 'C8'), ('P5', 'C2'), ('P6', 'C5'), ('P6', 'C4'), ('P6', 'C10'), ('P6', 'C6'), ('P6', 'C3'), ('P6', 'C1'), ('P6', 'C9'), ('P6', 'C7'), ('P6', 'C8'), ('P6', 'C2')}\n",
            "    transport_index_0 : Size=1, Index=None, Ordered=Insertion\n",
            "        Key  : Dimen : Domain : Size : Members\n",
            "        None :     1 :    Any :    6 : {'P2', 'P1', 'P3', 'P4', 'P5', 'P6'}\n",
            "    transport_index_1 : Size=1, Index=None, Ordered=Insertion\n",
            "        Key  : Dimen : Domain : Size : Members\n",
            "        None :     1 :    Any :   10 : {'C5', 'C4', 'C10', 'C6', 'C3', 'C1', 'C9', 'C7', 'C8', 'C2'}\n",
            "\n",
            "1 Var Declarations\n",
            "    transport : Size=60, Index=transport_index\n",
            "        Key           : Lower : Value : Upper : Fixed : Stale : Domain\n",
            "         ('P1', 'C1') :     0 :   0.0 :  None : False : False : NonNegativeReals\n",
            "        ('P1', 'C10') :     0 :   0.0 :  None : False : False : NonNegativeReals\n",
            "         ('P1', 'C2') :     0 :   0.0 :  None : False : False : NonNegativeReals\n",
            "         ('P1', 'C3') :     0 :   0.0 :  None : False : False : NonNegativeReals\n",
            "         ('P1', 'C4') :     0 :   0.0 :  None : False : False : NonNegativeReals\n",
            "         ('P1', 'C5') :     0 :   0.0 :  None : False : False : NonNegativeReals\n",
            "         ('P1', 'C6') :     0 :   0.0 :  None : False : False : NonNegativeReals\n",
            "         ('P1', 'C7') :     0 :   0.0 :  None : False : False : NonNegativeReals\n",
            "         ('P1', 'C8') :     0 :   0.0 :  None : False : False : NonNegativeReals\n",
            "         ('P1', 'C9') :     0 :   6.0 :  None : False : False : NonNegativeReals\n",
            "         ('P2', 'C1') :     0 :   0.0 :  None : False : False : NonNegativeReals\n",
            "        ('P2', 'C10') :     0 :   4.0 :  None : False : False : NonNegativeReals\n",
            "         ('P2', 'C2') :     0 :   0.0 :  None : False : False : NonNegativeReals\n",
            "         ('P2', 'C3') :     0 :   0.0 :  None : False : False : NonNegativeReals\n",
            "         ('P2', 'C4') :     0 :   1.0 :  None : False : False : NonNegativeReals\n",
            "         ('P2', 'C5') :     0 :   3.0 :  None : False : False : NonNegativeReals\n",
            "         ('P2', 'C6') :     0 :   0.0 :  None : False : False : NonNegativeReals\n",
            "         ('P2', 'C7') :     0 :   0.0 :  None : False : False : NonNegativeReals\n",
            "         ('P2', 'C8') :     0 :   0.0 :  None : False : False : NonNegativeReals\n",
            "         ('P2', 'C9') :     0 :   2.0 :  None : False : False : NonNegativeReals\n",
            "         ('P3', 'C1') :     0 :   3.0 :  None : False : False : NonNegativeReals\n",
            "        ('P3', 'C10') :     0 :   0.0 :  None : False : False : NonNegativeReals\n",
            "         ('P3', 'C2') :     0 :   0.0 :  None : False : False : NonNegativeReals\n",
            "         ('P3', 'C3') :     0 :   1.0 :  None : False : False : NonNegativeReals\n",
            "         ('P3', 'C4') :     0 :   0.0 :  None : False : False : NonNegativeReals\n",
            "         ('P3', 'C5') :     0 :   0.0 :  None : False : False : NonNegativeReals\n",
            "         ('P3', 'C6') :     0 :   0.0 :  None : False : False : NonNegativeReals\n",
            "         ('P3', 'C7') :     0 :   0.0 :  None : False : False : NonNegativeReals\n",
            "         ('P3', 'C8') :     0 :   0.0 :  None : False : False : NonNegativeReals\n",
            "         ('P3', 'C9') :     0 :   0.0 :  None : False : False : NonNegativeReals\n",
            "         ('P4', 'C1') :     0 :   0.0 :  None : False : False : NonNegativeReals\n",
            "        ('P4', 'C10') :     0 :   1.0 :  None : False : False : NonNegativeReals\n",
            "         ('P4', 'C2') :     0 :   0.0 :  None : False : False : NonNegativeReals\n",
            "         ('P4', 'C3') :     0 :   0.0 :  None : False : False : NonNegativeReals\n",
            "         ('P4', 'C4') :     0 :   0.0 :  None : False : False : NonNegativeReals\n",
            "         ('P4', 'C5') :     0 :   0.0 :  None : False : False : NonNegativeReals\n",
            "         ('P4', 'C6') :     0 :   2.0 :  None : False : False : NonNegativeReals\n",
            "         ('P4', 'C7') :     0 :   0.0 :  None : False : False : NonNegativeReals\n",
            "         ('P4', 'C8') :     0 :   0.0 :  None : False : False : NonNegativeReals\n",
            "         ('P4', 'C9') :     0 :   0.0 :  None : False : False : NonNegativeReals\n",
            "         ('P5', 'C1') :     0 :   0.0 :  None : False : False : NonNegativeReals\n",
            "        ('P5', 'C10') :     0 :   0.0 :  None : False : False : NonNegativeReals\n",
            "         ('P5', 'C2') :     0 :   0.0 :  None : False : False : NonNegativeReals\n",
            "         ('P5', 'C3') :     0 :   0.0 :  None : False : False : NonNegativeReals\n",
            "         ('P5', 'C4') :     0 :   0.0 :  None : False : False : NonNegativeReals\n",
            "         ('P5', 'C5') :     0 :   0.0 :  None : False : False : NonNegativeReals\n",
            "         ('P5', 'C6') :     0 :   1.0 :  None : False : False : NonNegativeReals\n",
            "         ('P5', 'C7') :     0 :   1.0 :  None : False : False : NonNegativeReals\n",
            "         ('P5', 'C8') :     0 :   0.0 :  None : False : False : NonNegativeReals\n",
            "         ('P5', 'C9') :     0 :   0.0 :  None : False : False : NonNegativeReals\n",
            "         ('P6', 'C1') :     0 :   0.0 :  None : False : False : NonNegativeReals\n",
            "        ('P6', 'C10') :     0 :   0.0 :  None : False : False : NonNegativeReals\n",
            "         ('P6', 'C2') :     0 :   0.0 :  None : False : False : NonNegativeReals\n",
            "         ('P6', 'C3') :     0 :   0.0 :  None : False : False : NonNegativeReals\n",
            "         ('P6', 'C4') :     0 :   0.0 :  None : False : False : NonNegativeReals\n",
            "         ('P6', 'C5') :     0 :   2.0 :  None : False : False : NonNegativeReals\n",
            "         ('P6', 'C6') :     0 :   0.0 :  None : False : False : NonNegativeReals\n",
            "         ('P6', 'C7') :     0 :   0.0 :  None : False : False : NonNegativeReals\n",
            "         ('P6', 'C8') :     0 :   0.0 :  None : False : False : NonNegativeReals\n",
            "         ('P6', 'C9') :     0 :   0.0 :  None : False : False : NonNegativeReals\n",
            "\n",
            "1 Objective Declarations\n",
            "    revenue : Size=1, Index=None, Active=True\n",
            "        Key  : Active : Sense    : Expression\n",
            "        None :   True : maximize : 22*transport[P2,C5] + 21*transport[P2,C4] + 21*transport[P2,C10] + 20*transport[P2,C6] + 19*transport[P2,C3] + 18*transport[P2,C1] + 18*transport[P2,C9] + 17*transport[P2,C7] + 16*transport[P2,C8] + 15*transport[P2,C2] + 22*transport[P1,C5] + 21*transport[P1,C4] + 21*transport[P1,C10] + 20*transport[P1,C6] + 19*transport[P1,C3] + 18*transport[P1,C1] + 18*transport[P1,C9] + 17*transport[P1,C7] + 16*transport[P1,C8] + 15*transport[P1,C2] + 22*transport[P3,C5] + 21*transport[P3,C4] + 21*transport[P3,C10] + 20*transport[P3,C6] + 19*transport[P3,C3] + 18*transport[P3,C1] + 18*transport[P3,C9] + 17*transport[P3,C7] + 16*transport[P3,C8] + 15*transport[P3,C2] + 22*transport[P4,C5] + 21*transport[P4,C4] + 21*transport[P4,C10] + 20*transport[P4,C6] + 19*transport[P4,C3] + 18*transport[P4,C1] + 18*transport[P4,C9] + 17*transport[P4,C7] + 16*transport[P4,C8] + 15*transport[P4,C2] + 22*transport[P5,C5] + 21*transport[P5,C4] + 21*transport[P5,C10] + 20*transport[P5,C6] + 19*transport[P5,C3] + 18*transport[P5,C1] + 18*transport[P5,C9] + 17*transport[P5,C7] + 16*transport[P5,C8] + 15*transport[P5,C2] + 22*transport[P6,C5] + 21*transport[P6,C4] + 21*transport[P6,C10] + 20*transport[P6,C6] + 19*transport[P6,C3] + 18*transport[P6,C1] + 18*transport[P6,C9] + 17*transport[P6,C7] + 16*transport[P6,C8] + 15*transport[P6,C2]\n",
            "\n",
            "2 Constraint Declarations\n",
            "    demand : Size=10, Index=demand_index, Active=True\n",
            "        Key : Lower : Body                                                                                                                  : Upper : Active\n",
            "          1 :  -Inf :       transport[P2,C5] + transport[P1,C5] + transport[P3,C5] + transport[P4,C5] + transport[P5,C5] + transport[P6,C5] :   5.0 :   True\n",
            "          2 :  -Inf :       transport[P2,C4] + transport[P1,C4] + transport[P3,C4] + transport[P4,C4] + transport[P5,C4] + transport[P6,C4] :   1.0 :   True\n",
            "          3 :  -Inf : transport[P2,C10] + transport[P1,C10] + transport[P3,C10] + transport[P4,C10] + transport[P5,C10] + transport[P6,C10] :   5.0 :   True\n",
            "          4 :  -Inf :       transport[P2,C6] + transport[P1,C6] + transport[P3,C6] + transport[P4,C6] + transport[P5,C6] + transport[P6,C6] :   3.0 :   True\n",
            "          5 :  -Inf :       transport[P2,C3] + transport[P1,C3] + transport[P3,C3] + transport[P4,C3] + transport[P5,C3] + transport[P6,C3] :   1.0 :   True\n",
            "          6 :  -Inf :       transport[P2,C1] + transport[P1,C1] + transport[P3,C1] + transport[P4,C1] + transport[P5,C1] + transport[P6,C1] :   3.0 :   True\n",
            "          7 :  -Inf :       transport[P2,C9] + transport[P1,C9] + transport[P3,C9] + transport[P4,C9] + transport[P5,C9] + transport[P6,C9] :   8.0 :   True\n",
            "          8 :  -Inf :       transport[P2,C7] + transport[P1,C7] + transport[P3,C7] + transport[P4,C7] + transport[P5,C7] + transport[P6,C7] :   4.0 :   True\n",
            "          9 :  -Inf :       transport[P2,C8] + transport[P1,C8] + transport[P3,C8] + transport[P4,C8] + transport[P5,C8] + transport[P6,C8] :   6.0 :   True\n",
            "         10 :  -Inf :       transport[P2,C2] + transport[P1,C2] + transport[P3,C2] + transport[P4,C2] + transport[P5,C2] + transport[P6,C2] :  13.0 :   True\n",
            "    supply : Size=6, Index=supply_index, Active=True\n",
            "        Key : Lower : Body                                                                                                                                                                                         : Upper : Active\n",
            "          1 :  -Inf : transport[P2,C5] + transport[P2,C4] + transport[P2,C10] + transport[P2,C6] + transport[P2,C3] + transport[P2,C1] + transport[P2,C9] + transport[P2,C7] + transport[P2,C8] + transport[P2,C2] :  10.0 :   True\n",
            "          2 :  -Inf : transport[P1,C5] + transport[P1,C4] + transport[P1,C10] + transport[P1,C6] + transport[P1,C3] + transport[P1,C1] + transport[P1,C9] + transport[P1,C7] + transport[P1,C8] + transport[P1,C2] :   6.0 :   True\n",
            "          3 :  -Inf : transport[P3,C5] + transport[P3,C4] + transport[P3,C10] + transport[P3,C6] + transport[P3,C3] + transport[P3,C1] + transport[P3,C9] + transport[P3,C7] + transport[P3,C8] + transport[P3,C2] :   4.0 :   True\n",
            "          4 :  -Inf : transport[P4,C5] + transport[P4,C4] + transport[P4,C10] + transport[P4,C6] + transport[P4,C3] + transport[P4,C1] + transport[P4,C9] + transport[P4,C7] + transport[P4,C8] + transport[P4,C2] :   3.0 :   True\n",
            "          5 :  -Inf : transport[P5,C5] + transport[P5,C4] + transport[P5,C10] + transport[P5,C6] + transport[P5,C3] + transport[P5,C1] + transport[P5,C9] + transport[P5,C7] + transport[P5,C8] + transport[P5,C2] :   2.0 :   True\n",
            "          6 :  -Inf : transport[P6,C5] + transport[P6,C4] + transport[P6,C10] + transport[P6,C6] + transport[P6,C3] + transport[P6,C1] + transport[P6,C9] + transport[P6,C7] + transport[P6,C8] + transport[P6,C2] :   2.0 :   True\n",
            "\n",
            "1 Suffix Declarations\n",
            "    dual : Direction=Suffix.IMPORT, Datatype=Suffix.FLOAT\n",
            "        Key        : Value\n",
            "        demand[10] :  -0.0\n",
            "         demand[1] :   5.0\n",
            "         demand[2] :   4.0\n",
            "         demand[3] :   4.0\n",
            "         demand[4] :   3.0\n",
            "         demand[5] :   2.0\n",
            "         demand[6] :   1.0\n",
            "         demand[7] :   1.0\n",
            "         demand[8] :  -0.0\n",
            "         demand[9] :  -0.0\n",
            "         supply[1] :  17.0\n",
            "         supply[2] :  17.0\n",
            "         supply[3] :  17.0\n",
            "         supply[4] :  17.0\n",
            "         supply[5] :  17.0\n",
            "         supply[6] :  17.0\n",
            "\n",
            "10 Declarations: dual transport_index_0 transport_index_1 transport_index transport revenue supply_index supply demand_index demand\n"
          ],
          "name": "stdout"
        }
      ]
    },
    {
      "cell_type": "code",
      "metadata": {
        "colab": {
          "base_uri": "https://localhost:8080/"
        },
        "id": "5rarX-mHvIgb",
        "outputId": "dca1f4b5-29d1-43a7-8192-e33f0ce2b5d6"
      },
      "source": [
        "for p in prosumer:\n",
        "    for c in consumer:\n",
        "        print(p, c, model.transport[p,c]())"
      ],
      "execution_count": 17,
      "outputs": [
        {
          "output_type": "stream",
          "text": [
            "P2 C5 3.0\n",
            "P2 C4 1.0\n",
            "P2 C10 4.0\n",
            "P2 C6 0.0\n",
            "P2 C3 0.0\n",
            "P2 C1 0.0\n",
            "P2 C9 2.0\n",
            "P2 C7 0.0\n",
            "P2 C8 0.0\n",
            "P2 C2 0.0\n",
            "P1 C5 0.0\n",
            "P1 C4 0.0\n",
            "P1 C10 0.0\n",
            "P1 C6 0.0\n",
            "P1 C3 0.0\n",
            "P1 C1 0.0\n",
            "P1 C9 6.0\n",
            "P1 C7 0.0\n",
            "P1 C8 0.0\n",
            "P1 C2 0.0\n",
            "P3 C5 0.0\n",
            "P3 C4 0.0\n",
            "P3 C10 0.0\n",
            "P3 C6 0.0\n",
            "P3 C3 1.0\n",
            "P3 C1 3.0\n",
            "P3 C9 0.0\n",
            "P3 C7 0.0\n",
            "P3 C8 0.0\n",
            "P3 C2 0.0\n",
            "P4 C5 0.0\n",
            "P4 C4 0.0\n",
            "P4 C10 1.0\n",
            "P4 C6 2.0\n",
            "P4 C3 0.0\n",
            "P4 C1 0.0\n",
            "P4 C9 0.0\n",
            "P4 C7 0.0\n",
            "P4 C8 0.0\n",
            "P4 C2 0.0\n",
            "P5 C5 0.0\n",
            "P5 C4 0.0\n",
            "P5 C10 0.0\n",
            "P5 C6 1.0\n",
            "P5 C3 0.0\n",
            "P5 C1 0.0\n",
            "P5 C9 0.0\n",
            "P5 C7 1.0\n",
            "P5 C8 0.0\n",
            "P5 C2 0.0\n",
            "P6 C5 2.0\n",
            "P6 C4 0.0\n",
            "P6 C10 0.0\n",
            "P6 C6 0.0\n",
            "P6 C3 0.0\n",
            "P6 C1 0.0\n",
            "P6 C9 0.0\n",
            "P6 C7 0.0\n",
            "P6 C8 0.0\n",
            "P6 C2 0.0\n"
          ],
          "name": "stdout"
        }
      ]
    },
    {
      "cell_type": "code",
      "metadata": {
        "colab": {
          "base_uri": "https://localhost:8080/"
        },
        "id": "4-n0tZzLvqEP",
        "outputId": "f0dd24c1-233c-458b-a940-9cf68d918889"
      },
      "source": [
        "if 'ok' == str(results.Solver.status):\n",
        "    print(\"Total Community Revenue = \",model.revenue())\n",
        "    print(\"\\nTransport Table:\")\n",
        "    for p in Prosumer1:\n",
        "        for c in Consumer1:\n",
        "            if model.transport[p,c]() > 0:\n",
        "                print(\"Transport from \", p,\" to \", c, \":\", model.transport[p,c]())\n",
        "else:\n",
        "    print(\"No Valid Solution Found\")"
      ],
      "execution_count": 23,
      "outputs": [
        {
          "output_type": "stream",
          "text": [
            "Total Community Revenue =  530.0\n",
            "\n",
            "Transport Table:\n",
            "Transport from  P1  to  C9 : 6.0\n",
            "Transport from  P2  to  C4 : 1.0\n",
            "Transport from  P2  to  C5 : 3.0\n",
            "Transport from  P2  to  C9 : 2.0\n",
            "Transport from  P2  to  C10 : 4.0\n",
            "Transport from  P3  to  C1 : 3.0\n",
            "Transport from  P3  to  C3 : 1.0\n",
            "Transport from  P4  to  C6 : 2.0\n",
            "Transport from  P4  to  C10 : 1.0\n",
            "Transport from  P5  to  C6 : 1.0\n",
            "Transport from  P5  to  C7 : 1.0\n",
            "Transport from  P6  to  C5 : 2.0\n"
          ],
          "name": "stdout"
        }
      ]
    },
    {
      "cell_type": "code",
      "metadata": {
        "colab": {
          "base_uri": "https://localhost:8080/"
        },
        "id": "OByEUSKxxGX3",
        "outputId": "45744bf4-28a2-454b-e66c-d558acacec7f"
      },
      "source": [
        "n = 0\n",
        "if 'ok' == str(results.Solver.status):\n",
        "    print(\"Personal Revenue:\\n\")\n",
        "    for p in prosumer:\n",
        "        for c in consumer:\n",
        "            if model.transport[p,c]() > 0:\n",
        "                print(\"Balance from \", c,\" to \", p, \":\", model.transport[p,c]() * bid['bid'][c])\n",
        "else:\n",
        "    print(\"No Valid Solution Found\")"
      ],
      "execution_count": 19,
      "outputs": [
        {
          "output_type": "stream",
          "text": [
            "Personal Revenue:\n",
            "\n",
            "Balance from  C5  to  P2 : 66.0\n",
            "Balance from  C4  to  P2 : 21.0\n",
            "Balance from  C10  to  P2 : 84.0\n",
            "Balance from  C9  to  P2 : 36.0\n",
            "Balance from  C9  to  P1 : 108.0\n",
            "Balance from  C3  to  P3 : 19.0\n",
            "Balance from  C1  to  P3 : 54.0\n",
            "Balance from  C10  to  P4 : 21.0\n",
            "Balance from  C6  to  P4 : 40.0\n",
            "Balance from  C6  to  P5 : 20.0\n",
            "Balance from  C7  to  P5 : 17.0\n",
            "Balance from  C5  to  P6 : 44.0\n"
          ],
          "name": "stdout"
        }
      ]
    },
    {
      "cell_type": "code",
      "metadata": {
        "colab": {
          "base_uri": "https://localhost:8080/"
        },
        "id": "FhXvef3y3Me9",
        "outputId": "99c53bd8-4077-4172-b29f-2c50b8589960"
      },
      "source": [
        "n = 0\n",
        "if 'ok' == str(results.Solver.status):\n",
        "    print(\"Personal Revenue:\\n\")\n",
        "    for p in prosumer:\n",
        "      for c in consumer:\n",
        "          n += model.transport[p, c]() * bid['bid'][c] \n",
        "      print(\"The revenue of\",p ,\":\" , n)\n",
        "      n = 0\n",
        "else:\n",
        "    print(\"No Valid Solution Found\")"
      ],
      "execution_count": 20,
      "outputs": [
        {
          "output_type": "stream",
          "text": [
            "Personal Revenue:\n",
            "\n",
            "The revenue of P2 : 207.0\n",
            "The revenue of P1 : 108.0\n",
            "The revenue of P3 : 73.0\n",
            "The revenue of P4 : 61.0\n",
            "The revenue of P5 : 37.0\n",
            "The revenue of P6 : 44.0\n"
          ],
          "name": "stdout"
        }
      ]
    },
    {
      "cell_type": "code",
      "metadata": {
        "colab": {
          "base_uri": "https://localhost:8080/"
        },
        "id": "w1cTux8anvOV",
        "outputId": "6e7d0871-a2bc-4772-a6fa-ac82d833f56d"
      },
      "source": [
        "n = 0\n",
        "if 'ok' == str(results.Solver.status):\n",
        "    print(\"The imported electricity form the grid:\\n\")\n",
        "    for c in consumer:\n",
        "        n = demand['demand'][c]\n",
        "        for p in prosumer:\n",
        "            n -= model.transport[p, c]()\n",
        "        if n > 0 :\n",
        "            print(c, \"needs to import \",n , \"KWh\") "
      ],
      "execution_count": 21,
      "outputs": [
        {
          "output_type": "stream",
          "text": [
            "The imported electricity form the grid:\n",
            "\n",
            "C7 needs to import  3.0 KWh\n",
            "C8 needs to import  6.0 KWh\n",
            "C2 needs to import  13.0 KWh\n"
          ],
          "name": "stdout"
        }
      ]
    },
    {
      "cell_type": "code",
      "metadata": {
        "colab": {
          "base_uri": "https://localhost:8080/"
        },
        "id": "oR76Apanq8UY",
        "outputId": "d9a0f494-ff5e-4be4-bcad-11f712c5f279"
      },
      "source": [
        "n = 0\n",
        "if 'ok' == str(results.Solver.status):\n",
        "    print(\"Personal Revenue:\\n\")\n",
        "    for c in Consumer1:\n",
        "      for p in Prosumer1:\n",
        "          n += model.transport[p, c]()\n",
        "      print(\"The received energy of\",c ,\":\" , n)\n",
        "      n = 0\n",
        "else:\n",
        "    print(\"No Valid Solution Found\")"
      ],
      "execution_count": 22,
      "outputs": [
        {
          "output_type": "stream",
          "text": [
            "Personal Revenue:\n",
            "\n",
            "The received energy of C1 : 3.0\n",
            "The received energy of C2 : 0.0\n",
            "The received energy of C3 : 1.0\n",
            "The received energy of C4 : 1.0\n",
            "The received energy of C5 : 5.0\n",
            "The received energy of C6 : 3.0\n",
            "The received energy of C7 : 1.0\n",
            "The received energy of C8 : 0.0\n",
            "The received energy of C9 : 8.0\n",
            "The received energy of C10 : 5.0\n"
          ],
          "name": "stdout"
        }
      ]
    }
  ]
}