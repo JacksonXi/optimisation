{
  "nbformat": 4,
  "nbformat_minor": 0,
  "metadata": {
    "colab": {
      "name": "export.ipynb",
      "provenance": [],
      "collapsed_sections": [],
      "authorship_tag": "ABX9TyMVcbnDc/HCQhs6FEWax/6r",
      "include_colab_link": true
    },
    "kernelspec": {
      "name": "python3",
      "display_name": "Python 3"
    },
    "language_info": {
      "name": "python"
    }
  },
  "cells": [
    {
      "cell_type": "markdown",
      "metadata": {
        "id": "view-in-github",
        "colab_type": "text"
      },
      "source": [
        "<a href=\"https://colab.research.google.com/github/JacksonXi/optimisation/blob/main/export.ipynb\" target=\"_parent\"><img src=\"https://colab.research.google.com/assets/colab-badge.svg\" alt=\"Open In Colab\"/></a>"
      ]
    },
    {
      "cell_type": "code",
      "metadata": {
        "id": "XWpeNVY2t-50",
        "colab": {
          "base_uri": "https://localhost:8080/"
        },
        "outputId": "b22d80f7-fb1c-43f8-ac40-d66b52801f5d"
      },
      "source": [
        "import shutil\n",
        "import sys\n",
        "import os.path\n",
        "import numpy as np\n",
        "import pandas as pd\n",
        "\n",
        "if not shutil.which(\"pyomo\"):\n",
        "    !pip install -q pyomo\n",
        "    assert(shutil.which(\"pyomo\"))\n",
        "\n",
        "if not (shutil.which(\"cbc\") or os.path.isfile(\"cbc\")):\n",
        "    if \"google.colab\" in sys.modules:\n",
        "        !apt-get install -y -qq coinor-cbc\n",
        "    else:\n",
        "        try:\n",
        "            !conda install -c conda-forge coincbc \n",
        "        except:\n",
        "            pass\n",
        "\n",
        "assert(shutil.which(\"cbc\") or os.path.isfile(\"cbc\"))\n",
        "    \n",
        "from pyomo.environ import *\n"
      ],
      "execution_count": 1,
      "outputs": [
        {
          "output_type": "stream",
          "text": [
            "\u001b[K     |████████████████████████████████| 8.9 MB 6.7 MB/s \n",
            "\u001b[K     |████████████████████████████████| 49 kB 5.5 MB/s \n",
            "\u001b[?25hSelecting previously unselected package coinor-libcoinutils3v5.\n",
            "(Reading database ... 160837 files and directories currently installed.)\n",
            "Preparing to unpack .../0-coinor-libcoinutils3v5_2.10.14+repack1-1_amd64.deb ...\n",
            "Unpacking coinor-libcoinutils3v5 (2.10.14+repack1-1) ...\n",
            "Selecting previously unselected package coinor-libosi1v5.\n",
            "Preparing to unpack .../1-coinor-libosi1v5_0.107.9+repack1-1_amd64.deb ...\n",
            "Unpacking coinor-libosi1v5 (0.107.9+repack1-1) ...\n",
            "Selecting previously unselected package coinor-libclp1.\n",
            "Preparing to unpack .../2-coinor-libclp1_1.16.11+repack1-1_amd64.deb ...\n",
            "Unpacking coinor-libclp1 (1.16.11+repack1-1) ...\n",
            "Selecting previously unselected package coinor-libcgl1.\n",
            "Preparing to unpack .../3-coinor-libcgl1_0.59.10+repack1-1_amd64.deb ...\n",
            "Unpacking coinor-libcgl1 (0.59.10+repack1-1) ...\n",
            "Selecting previously unselected package coinor-libcbc3.\n",
            "Preparing to unpack .../4-coinor-libcbc3_2.9.9+repack1-1_amd64.deb ...\n",
            "Unpacking coinor-libcbc3 (2.9.9+repack1-1) ...\n",
            "Selecting previously unselected package coinor-cbc.\n",
            "Preparing to unpack .../5-coinor-cbc_2.9.9+repack1-1_amd64.deb ...\n",
            "Unpacking coinor-cbc (2.9.9+repack1-1) ...\n",
            "Setting up coinor-libcoinutils3v5 (2.10.14+repack1-1) ...\n",
            "Setting up coinor-libosi1v5 (0.107.9+repack1-1) ...\n",
            "Setting up coinor-libclp1 (1.16.11+repack1-1) ...\n",
            "Setting up coinor-libcgl1 (0.59.10+repack1-1) ...\n",
            "Setting up coinor-libcbc3 (2.9.9+repack1-1) ...\n",
            "Setting up coinor-cbc (2.9.9+repack1-1) ...\n",
            "Processing triggers for man-db (2.8.3-2ubuntu0.1) ...\n",
            "Processing triggers for libc-bin (2.27-3ubuntu1.2) ...\n",
            "/sbin/ldconfig.real: /usr/local/lib/python3.7/dist-packages/ideep4py/lib/libmkldnn.so.0 is not a symbolic link\n",
            "\n"
          ],
          "name": "stdout"
        }
      ]
    },
    {
      "cell_type": "code",
      "metadata": {
        "colab": {
          "base_uri": "https://localhost:8080/"
        },
        "id": "b5I7rxaMzNK3",
        "outputId": "3c087c1d-a2eb-4fbb-bb1e-a9d977fc08a7"
      },
      "source": [
        "!git clone https://github.com/JacksonXi/optimisation"
      ],
      "execution_count": 2,
      "outputs": [
        {
          "output_type": "stream",
          "text": [
            "Cloning into 'optimisation'...\n",
            "remote: Enumerating objects: 49, done.\u001b[K\n",
            "remote: Counting objects: 100% (49/49), done.\u001b[K\n",
            "remote: Compressing objects: 100% (40/40), done.\u001b[K\n",
            "remote: Total 49 (delta 8), reused 0 (delta 0), pack-reused 0\u001b[K\n",
            "Unpacking objects: 100% (49/49), done.\n"
          ],
          "name": "stdout"
        }
      ]
    },
    {
      "cell_type": "code",
      "metadata": {
        "colab": {
          "base_uri": "https://localhost:8080/"
        },
        "id": "K-GqEPPKub-N",
        "outputId": "a0eb4095-9864-4c35-c08e-83d7b0a151f3"
      },
      "source": [
        "cd /content/optimisation/export"
      ],
      "execution_count": 3,
      "outputs": [
        {
          "output_type": "stream",
          "text": [
            "/content/optimisation/export\n"
          ],
          "name": "stdout"
        }
      ]
    },
    {
      "cell_type": "markdown",
      "metadata": {
        "id": "wXsDDjp-JJnm"
      },
      "source": [
        "**Generated energy > (non-controlable energy + flexible energy)**"
      ]
    },
    {
      "cell_type": "markdown",
      "metadata": {
        "id": "r0eg68Rwz2yw"
      },
      "source": [
        "**Obtain consumer ID**"
      ]
    },
    {
      "cell_type": "code",
      "metadata": {
        "colab": {
          "base_uri": "https://localhost:8080/"
        },
        "id": "Df40ZnWkkeja",
        "outputId": "463f926a-c725-4f3b-9b88-e4c54fd61045"
      },
      "source": [
        "Flexibleindex = pd.read_csv(\"flexibleIndex.csv\")\n",
        "Consumer1 = list(Flexibleindex['Unnamed: 0'])\n",
        "Consumer = list(Flexibleindex['Unnamed: 0'])\n",
        "Consumer"
      ],
      "execution_count": 4,
      "outputs": [
        {
          "output_type": "execute_result",
          "data": {
            "text/plain": [
              "['C1', 'C2', 'C3', 'C4', 'C5', 'C6', 'C7', 'C8', 'C9', 'C10']"
            ]
          },
          "metadata": {
            "tags": []
          },
          "execution_count": 4
        }
      ]
    },
    {
      "cell_type": "markdown",
      "metadata": {
        "id": "bB76RTZq0dVP"
      },
      "source": [
        "**Obtain flexibleindex during peak hours** \n",
        "\n",
        "\n",
        "\n",
        "\n",
        "\n",
        "**0: ON**\n",
        "\n",
        "\n",
        "**1: OFF**\n",
        "\n",
        "\n"
      ]
    },
    {
      "cell_type": "code",
      "metadata": {
        "colab": {
          "base_uri": "https://localhost:8080/",
          "height": 359
        },
        "id": "7uFnhEZwC0Vm",
        "outputId": "bdb1d9b9-698e-47b7-87dd-8accb71b6f26"
      },
      "source": [
        "flexibleindex = pd.read_csv(\"flexibleIndex.csv\", index_col=0)\n",
        "flexibleindex"
      ],
      "execution_count": 5,
      "outputs": [
        {
          "output_type": "execute_result",
          "data": {
            "text/html": [
              "<div>\n",
              "<style scoped>\n",
              "    .dataframe tbody tr th:only-of-type {\n",
              "        vertical-align: middle;\n",
              "    }\n",
              "\n",
              "    .dataframe tbody tr th {\n",
              "        vertical-align: top;\n",
              "    }\n",
              "\n",
              "    .dataframe thead th {\n",
              "        text-align: right;\n",
              "    }\n",
              "</style>\n",
              "<table border=\"1\" class=\"dataframe\">\n",
              "  <thead>\n",
              "    <tr style=\"text-align: right;\">\n",
              "      <th></th>\n",
              "      <th>TV</th>\n",
              "      <th>Heater</th>\n",
              "      <th>WashingMachine</th>\n",
              "      <th>Dryer</th>\n",
              "      <th>Fridger</th>\n",
              "      <th>Airconditioner</th>\n",
              "      <th>InductionCooker</th>\n",
              "    </tr>\n",
              "  </thead>\n",
              "  <tbody>\n",
              "    <tr>\n",
              "      <th>C1</th>\n",
              "      <td>0</td>\n",
              "      <td>0</td>\n",
              "      <td>1</td>\n",
              "      <td>1</td>\n",
              "      <td>0</td>\n",
              "      <td>1</td>\n",
              "      <td>0</td>\n",
              "    </tr>\n",
              "    <tr>\n",
              "      <th>C2</th>\n",
              "      <td>1</td>\n",
              "      <td>0</td>\n",
              "      <td>1</td>\n",
              "      <td>0</td>\n",
              "      <td>0</td>\n",
              "      <td>1</td>\n",
              "      <td>0</td>\n",
              "    </tr>\n",
              "    <tr>\n",
              "      <th>C3</th>\n",
              "      <td>1</td>\n",
              "      <td>0</td>\n",
              "      <td>0</td>\n",
              "      <td>1</td>\n",
              "      <td>0</td>\n",
              "      <td>1</td>\n",
              "      <td>0</td>\n",
              "    </tr>\n",
              "    <tr>\n",
              "      <th>C4</th>\n",
              "      <td>0</td>\n",
              "      <td>1</td>\n",
              "      <td>0</td>\n",
              "      <td>1</td>\n",
              "      <td>1</td>\n",
              "      <td>0</td>\n",
              "      <td>1</td>\n",
              "    </tr>\n",
              "    <tr>\n",
              "      <th>C5</th>\n",
              "      <td>1</td>\n",
              "      <td>0</td>\n",
              "      <td>1</td>\n",
              "      <td>0</td>\n",
              "      <td>1</td>\n",
              "      <td>0</td>\n",
              "      <td>0</td>\n",
              "    </tr>\n",
              "    <tr>\n",
              "      <th>C6</th>\n",
              "      <td>0</td>\n",
              "      <td>1</td>\n",
              "      <td>0</td>\n",
              "      <td>1</td>\n",
              "      <td>0</td>\n",
              "      <td>1</td>\n",
              "      <td>0</td>\n",
              "    </tr>\n",
              "    <tr>\n",
              "      <th>C7</th>\n",
              "      <td>0</td>\n",
              "      <td>0</td>\n",
              "      <td>0</td>\n",
              "      <td>1</td>\n",
              "      <td>0</td>\n",
              "      <td>1</td>\n",
              "      <td>1</td>\n",
              "    </tr>\n",
              "    <tr>\n",
              "      <th>C8</th>\n",
              "      <td>1</td>\n",
              "      <td>0</td>\n",
              "      <td>0</td>\n",
              "      <td>1</td>\n",
              "      <td>0</td>\n",
              "      <td>0</td>\n",
              "      <td>1</td>\n",
              "    </tr>\n",
              "    <tr>\n",
              "      <th>C9</th>\n",
              "      <td>0</td>\n",
              "      <td>0</td>\n",
              "      <td>0</td>\n",
              "      <td>1</td>\n",
              "      <td>0</td>\n",
              "      <td>0</td>\n",
              "      <td>0</td>\n",
              "    </tr>\n",
              "    <tr>\n",
              "      <th>C10</th>\n",
              "      <td>1</td>\n",
              "      <td>1</td>\n",
              "      <td>1</td>\n",
              "      <td>0</td>\n",
              "      <td>0</td>\n",
              "      <td>0</td>\n",
              "      <td>1</td>\n",
              "    </tr>\n",
              "  </tbody>\n",
              "</table>\n",
              "</div>"
            ],
            "text/plain": [
              "     TV  Heater  WashingMachine  ...  Fridger  Airconditioner  InductionCooker\n",
              "C1    0       0               1  ...        0               1                0\n",
              "C2    1       0               1  ...        0               1                0\n",
              "C3    1       0               0  ...        0               1                0\n",
              "C4    0       1               0  ...        1               0                1\n",
              "C5    1       0               1  ...        1               0                0\n",
              "C6    0       1               0  ...        0               1                0\n",
              "C7    0       0               0  ...        0               1                1\n",
              "C8    1       0               0  ...        0               0                1\n",
              "C9    0       0               0  ...        0               0                0\n",
              "C10   1       1               1  ...        0               0                1\n",
              "\n",
              "[10 rows x 7 columns]"
            ]
          },
          "metadata": {
            "tags": []
          },
          "execution_count": 5
        }
      ]
    },
    {
      "cell_type": "markdown",
      "metadata": {
        "id": "NR7Laljq07Fd"
      },
      "source": [
        "**Obtain electrical usage (KWh)**"
      ]
    },
    {
      "cell_type": "code",
      "metadata": {
        "colab": {
          "base_uri": "https://localhost:8080/",
          "height": 359
        },
        "id": "T4DPoLbCDAIv",
        "outputId": "b287daf4-4a8e-4b73-80fc-a7438e7daca1"
      },
      "source": [
        "power = pd.read_csv('power.csv', index_col=0)\n",
        "power"
      ],
      "execution_count": 6,
      "outputs": [
        {
          "output_type": "execute_result",
          "data": {
            "text/html": [
              "<div>\n",
              "<style scoped>\n",
              "    .dataframe tbody tr th:only-of-type {\n",
              "        vertical-align: middle;\n",
              "    }\n",
              "\n",
              "    .dataframe tbody tr th {\n",
              "        vertical-align: top;\n",
              "    }\n",
              "\n",
              "    .dataframe thead th {\n",
              "        text-align: right;\n",
              "    }\n",
              "</style>\n",
              "<table border=\"1\" class=\"dataframe\">\n",
              "  <thead>\n",
              "    <tr style=\"text-align: right;\">\n",
              "      <th></th>\n",
              "      <th>TV</th>\n",
              "      <th>Heater</th>\n",
              "      <th>WashingMachine</th>\n",
              "      <th>Dryer</th>\n",
              "      <th>Fridger</th>\n",
              "      <th>Airconditioner</th>\n",
              "      <th>InductionCooker</th>\n",
              "    </tr>\n",
              "  </thead>\n",
              "  <tbody>\n",
              "    <tr>\n",
              "      <th>C1</th>\n",
              "      <td>2</td>\n",
              "      <td>4</td>\n",
              "      <td>4</td>\n",
              "      <td>8</td>\n",
              "      <td>2</td>\n",
              "      <td>5</td>\n",
              "      <td>5</td>\n",
              "    </tr>\n",
              "    <tr>\n",
              "      <th>C2</th>\n",
              "      <td>2</td>\n",
              "      <td>7</td>\n",
              "      <td>4</td>\n",
              "      <td>5</td>\n",
              "      <td>1</td>\n",
              "      <td>3</td>\n",
              "      <td>5</td>\n",
              "    </tr>\n",
              "    <tr>\n",
              "      <th>C3</th>\n",
              "      <td>2</td>\n",
              "      <td>5</td>\n",
              "      <td>2</td>\n",
              "      <td>5</td>\n",
              "      <td>2</td>\n",
              "      <td>4</td>\n",
              "      <td>4</td>\n",
              "    </tr>\n",
              "    <tr>\n",
              "      <th>C4</th>\n",
              "      <td>2</td>\n",
              "      <td>8</td>\n",
              "      <td>3</td>\n",
              "      <td>5</td>\n",
              "      <td>1</td>\n",
              "      <td>4</td>\n",
              "      <td>4</td>\n",
              "    </tr>\n",
              "    <tr>\n",
              "      <th>C5</th>\n",
              "      <td>2</td>\n",
              "      <td>5</td>\n",
              "      <td>4</td>\n",
              "      <td>5</td>\n",
              "      <td>2</td>\n",
              "      <td>3</td>\n",
              "      <td>6</td>\n",
              "    </tr>\n",
              "    <tr>\n",
              "      <th>C6</th>\n",
              "      <td>1</td>\n",
              "      <td>6</td>\n",
              "      <td>2</td>\n",
              "      <td>6</td>\n",
              "      <td>1</td>\n",
              "      <td>5</td>\n",
              "      <td>5</td>\n",
              "    </tr>\n",
              "    <tr>\n",
              "      <th>C7</th>\n",
              "      <td>1</td>\n",
              "      <td>7</td>\n",
              "      <td>4</td>\n",
              "      <td>5</td>\n",
              "      <td>1</td>\n",
              "      <td>5</td>\n",
              "      <td>6</td>\n",
              "    </tr>\n",
              "    <tr>\n",
              "      <th>C8</th>\n",
              "      <td>1</td>\n",
              "      <td>7</td>\n",
              "      <td>2</td>\n",
              "      <td>6</td>\n",
              "      <td>1</td>\n",
              "      <td>3</td>\n",
              "      <td>4</td>\n",
              "    </tr>\n",
              "    <tr>\n",
              "      <th>C9</th>\n",
              "      <td>1</td>\n",
              "      <td>4</td>\n",
              "      <td>4</td>\n",
              "      <td>6</td>\n",
              "      <td>1</td>\n",
              "      <td>5</td>\n",
              "      <td>5</td>\n",
              "    </tr>\n",
              "    <tr>\n",
              "      <th>C10</th>\n",
              "      <td>2</td>\n",
              "      <td>8</td>\n",
              "      <td>2</td>\n",
              "      <td>5</td>\n",
              "      <td>1</td>\n",
              "      <td>4</td>\n",
              "      <td>5</td>\n",
              "    </tr>\n",
              "  </tbody>\n",
              "</table>\n",
              "</div>"
            ],
            "text/plain": [
              "     TV  Heater  WashingMachine  ...  Fridger  Airconditioner  InductionCooker\n",
              "C1    2       4               4  ...        2               5                5\n",
              "C2    2       7               4  ...        1               3                5\n",
              "C3    2       5               2  ...        2               4                4\n",
              "C4    2       8               3  ...        1               4                4\n",
              "C5    2       5               4  ...        2               3                6\n",
              "C6    1       6               2  ...        1               5                5\n",
              "C7    1       7               4  ...        1               5                6\n",
              "C8    1       7               2  ...        1               3                4\n",
              "C9    1       4               4  ...        1               5                5\n",
              "C10   2       8               2  ...        1               4                5\n",
              "\n",
              "[10 rows x 7 columns]"
            ]
          },
          "metadata": {
            "tags": []
          },
          "execution_count": 6
        }
      ]
    },
    {
      "cell_type": "markdown",
      "metadata": {
        "id": "jaSvr-x64kn1"
      },
      "source": [
        "**Obtain power demand (non-controlable loads)**"
      ]
    },
    {
      "cell_type": "code",
      "metadata": {
        "colab": {
          "base_uri": "https://localhost:8080/"
        },
        "id": "ENS1bbI91kat",
        "outputId": "b54300db-d446-4d9b-b0c4-bc394512ba11"
      },
      "source": [
        "demand = pd.read_csv('demand.csv', index_col=0)\n",
        "print(demand)"
      ],
      "execution_count": 7,
      "outputs": [
        {
          "output_type": "stream",
          "text": [
            "     demand\n",
            "C1        3\n",
            "C2       13\n",
            "C3        1\n",
            "C4        1\n",
            "C5        5\n",
            "C6        3\n",
            "C7        4\n",
            "C8        6\n",
            "C9        8\n",
            "C10       5\n"
          ],
          "name": "stdout"
        }
      ]
    },
    {
      "cell_type": "markdown",
      "metadata": {
        "id": "U5r6j8bA5Jfe"
      },
      "source": [
        "**Obtain appliance type**"
      ]
    },
    {
      "cell_type": "code",
      "metadata": {
        "colab": {
          "base_uri": "https://localhost:8080/"
        },
        "id": "ZpMsk-7gN5xk",
        "outputId": "3c61fe04-57ac-4a30-e638-c2406e28aa9d"
      },
      "source": [
        "appliances = list(flexibleindex.keys())\n",
        "appliances"
      ],
      "execution_count": 8,
      "outputs": [
        {
          "output_type": "execute_result",
          "data": {
            "text/plain": [
              "['TV',\n",
              " 'Heater',\n",
              " 'WashingMachine',\n",
              " 'Dryer',\n",
              " 'Fridger',\n",
              " 'Airconditioner',\n",
              " 'InductionCooker']"
            ]
          },
          "metadata": {
            "tags": []
          },
          "execution_count": 8
        }
      ]
    },
    {
      "cell_type": "markdown",
      "metadata": {
        "id": "HeCwnV7S5UmQ"
      },
      "source": [
        "**Obtain power demand (non-controlable loads and flexible loads)**"
      ]
    },
    {
      "cell_type": "code",
      "metadata": {
        "colab": {
          "base_uri": "https://localhost:8080/",
          "height": 359
        },
        "id": "-unTgWnmRvud",
        "outputId": "7e5039b4-6810-453d-8889-63ba51fa874f"
      },
      "source": [
        "for c in Consumer:\n",
        "    for a in appliances:\n",
        "        demand['demand'][c] += power[a][c]*flexibleindex[a][c]\n",
        "demand"
      ],
      "execution_count": 9,
      "outputs": [
        {
          "output_type": "execute_result",
          "data": {
            "text/html": [
              "<div>\n",
              "<style scoped>\n",
              "    .dataframe tbody tr th:only-of-type {\n",
              "        vertical-align: middle;\n",
              "    }\n",
              "\n",
              "    .dataframe tbody tr th {\n",
              "        vertical-align: top;\n",
              "    }\n",
              "\n",
              "    .dataframe thead th {\n",
              "        text-align: right;\n",
              "    }\n",
              "</style>\n",
              "<table border=\"1\" class=\"dataframe\">\n",
              "  <thead>\n",
              "    <tr style=\"text-align: right;\">\n",
              "      <th></th>\n",
              "      <th>demand</th>\n",
              "    </tr>\n",
              "  </thead>\n",
              "  <tbody>\n",
              "    <tr>\n",
              "      <th>C1</th>\n",
              "      <td>20</td>\n",
              "    </tr>\n",
              "    <tr>\n",
              "      <th>C2</th>\n",
              "      <td>22</td>\n",
              "    </tr>\n",
              "    <tr>\n",
              "      <th>C3</th>\n",
              "      <td>12</td>\n",
              "    </tr>\n",
              "    <tr>\n",
              "      <th>C4</th>\n",
              "      <td>19</td>\n",
              "    </tr>\n",
              "    <tr>\n",
              "      <th>C5</th>\n",
              "      <td>13</td>\n",
              "    </tr>\n",
              "    <tr>\n",
              "      <th>C6</th>\n",
              "      <td>20</td>\n",
              "    </tr>\n",
              "    <tr>\n",
              "      <th>C7</th>\n",
              "      <td>20</td>\n",
              "    </tr>\n",
              "    <tr>\n",
              "      <th>C8</th>\n",
              "      <td>17</td>\n",
              "    </tr>\n",
              "    <tr>\n",
              "      <th>C9</th>\n",
              "      <td>14</td>\n",
              "    </tr>\n",
              "    <tr>\n",
              "      <th>C10</th>\n",
              "      <td>22</td>\n",
              "    </tr>\n",
              "  </tbody>\n",
              "</table>\n",
              "</div>"
            ],
            "text/plain": [
              "     demand\n",
              "C1       20\n",
              "C2       22\n",
              "C3       12\n",
              "C4       19\n",
              "C5       13\n",
              "C6       20\n",
              "C7       20\n",
              "C8       17\n",
              "C9       14\n",
              "C10      22"
            ]
          },
          "metadata": {
            "tags": []
          },
          "execution_count": 9
        }
      ]
    },
    {
      "cell_type": "markdown",
      "metadata": {
        "id": "IlSjNaLr6D_E"
      },
      "source": [
        "**Obtain bid**"
      ]
    },
    {
      "cell_type": "code",
      "metadata": {
        "colab": {
          "base_uri": "https://localhost:8080/"
        },
        "id": "BagvJ-eD8Ayf",
        "outputId": "d38c4faa-437e-4a9a-c782-51246acdc8ec"
      },
      "source": [
        "Consumer1"
      ],
      "execution_count": 10,
      "outputs": [
        {
          "output_type": "execute_result",
          "data": {
            "text/plain": [
              "['C1', 'C2', 'C3', 'C4', 'C5', 'C6', 'C7', 'C8', 'C9', 'C10']"
            ]
          },
          "metadata": {
            "tags": []
          },
          "execution_count": 10
        }
      ]
    },
    {
      "cell_type": "code",
      "metadata": {
        "colab": {
          "base_uri": "https://localhost:8080/",
          "height": 359
        },
        "id": "bQQnTI8mZ84F",
        "outputId": "0b18662e-ea7f-4086-809d-4473b361d3f6"
      },
      "source": [
        "bid = pd.read_csv('bid.csv', index_col=0)\n",
        "bid"
      ],
      "execution_count": 11,
      "outputs": [
        {
          "output_type": "execute_result",
          "data": {
            "text/html": [
              "<div>\n",
              "<style scoped>\n",
              "    .dataframe tbody tr th:only-of-type {\n",
              "        vertical-align: middle;\n",
              "    }\n",
              "\n",
              "    .dataframe tbody tr th {\n",
              "        vertical-align: top;\n",
              "    }\n",
              "\n",
              "    .dataframe thead th {\n",
              "        text-align: right;\n",
              "    }\n",
              "</style>\n",
              "<table border=\"1\" class=\"dataframe\">\n",
              "  <thead>\n",
              "    <tr style=\"text-align: right;\">\n",
              "      <th></th>\n",
              "      <th>bid</th>\n",
              "    </tr>\n",
              "  </thead>\n",
              "  <tbody>\n",
              "    <tr>\n",
              "      <th>C1</th>\n",
              "      <td>18</td>\n",
              "    </tr>\n",
              "    <tr>\n",
              "      <th>C2</th>\n",
              "      <td>15</td>\n",
              "    </tr>\n",
              "    <tr>\n",
              "      <th>C3</th>\n",
              "      <td>19</td>\n",
              "    </tr>\n",
              "    <tr>\n",
              "      <th>C4</th>\n",
              "      <td>21</td>\n",
              "    </tr>\n",
              "    <tr>\n",
              "      <th>C5</th>\n",
              "      <td>22</td>\n",
              "    </tr>\n",
              "    <tr>\n",
              "      <th>C6</th>\n",
              "      <td>20</td>\n",
              "    </tr>\n",
              "    <tr>\n",
              "      <th>C7</th>\n",
              "      <td>17</td>\n",
              "    </tr>\n",
              "    <tr>\n",
              "      <th>C8</th>\n",
              "      <td>16</td>\n",
              "    </tr>\n",
              "    <tr>\n",
              "      <th>C9</th>\n",
              "      <td>18</td>\n",
              "    </tr>\n",
              "    <tr>\n",
              "      <th>C10</th>\n",
              "      <td>21</td>\n",
              "    </tr>\n",
              "  </tbody>\n",
              "</table>\n",
              "</div>"
            ],
            "text/plain": [
              "     bid\n",
              "C1    18\n",
              "C2    15\n",
              "C3    19\n",
              "C4    21\n",
              "C5    22\n",
              "C6    20\n",
              "C7    17\n",
              "C8    16\n",
              "C9    18\n",
              "C10   21"
            ]
          },
          "metadata": {
            "tags": []
          },
          "execution_count": 11
        }
      ]
    },
    {
      "cell_type": "markdown",
      "metadata": {
        "id": "9nLVuwU26HIC"
      },
      "source": [
        "**Sorting the bid**"
      ]
    },
    {
      "cell_type": "code",
      "metadata": {
        "colab": {
          "base_uri": "https://localhost:8080/"
        },
        "id": "fXb-DUUZaBlS",
        "outputId": "b29af052-9239-41e4-c1cf-9a011d06dc03"
      },
      "source": [
        "n = len(bid)\n",
        "consumer = [] \n",
        "while n != 0:\n",
        "    max = Consumer[0]\n",
        "    for i in range(0,n):\n",
        "      if bid['bid'][max] < bid['bid'][Consumer[i]]:\n",
        "          max = Consumer[i]\n",
        "      else:\n",
        "          max = max\n",
        "    consumer.append(max)      \n",
        "    Consumer.remove(max)\n",
        "    n -= 1\n",
        "print(Consumer)\n",
        "print(consumer)"
      ],
      "execution_count": 12,
      "outputs": [
        {
          "output_type": "stream",
          "text": [
            "[]\n",
            "['C5', 'C4', 'C10', 'C6', 'C3', 'C1', 'C9', 'C7', 'C8', 'C2']\n"
          ],
          "name": "stdout"
        }
      ]
    },
    {
      "cell_type": "code",
      "metadata": {
        "colab": {
          "base_uri": "https://localhost:8080/"
        },
        "id": "bcSA_ZOo6VDG",
        "outputId": "ce7ecb40-9b17-484e-ec11-8da9291833ca"
      },
      "source": [
        "Rank = list(reversed(range(0, len(consumer))))\n",
        "# Rank\n",
        "\n",
        "consumer_rank = pd.DataFrame(list(zip(consumer, Rank)), columns =['Consumer', 'Rank'])\n",
        "consumer_rank = consumer_rank.set_index('Consumer')\n",
        "print(consumer_rank)"
      ],
      "execution_count": 13,
      "outputs": [
        {
          "output_type": "stream",
          "text": [
            "          Rank\n",
            "Consumer      \n",
            "C5           9\n",
            "C4           8\n",
            "C10          7\n",
            "C6           6\n",
            "C3           5\n",
            "C1           4\n",
            "C9           3\n",
            "C7           2\n",
            "C8           1\n",
            "C2           0\n"
          ],
          "name": "stdout"
        }
      ]
    },
    {
      "cell_type": "code",
      "metadata": {
        "colab": {
          "base_uri": "https://localhost:8080/",
          "height": 390
        },
        "id": "w5StHYmQ6XJ8",
        "outputId": "81b82515-fa30-4ce7-917c-00891830e44c"
      },
      "source": [
        "for c in consumer:\n",
        "  consumer_rank['Rank'][c] += 1\n",
        "consumer_rank"
      ],
      "execution_count": 14,
      "outputs": [
        {
          "output_type": "execute_result",
          "data": {
            "text/html": [
              "<div>\n",
              "<style scoped>\n",
              "    .dataframe tbody tr th:only-of-type {\n",
              "        vertical-align: middle;\n",
              "    }\n",
              "\n",
              "    .dataframe tbody tr th {\n",
              "        vertical-align: top;\n",
              "    }\n",
              "\n",
              "    .dataframe thead th {\n",
              "        text-align: right;\n",
              "    }\n",
              "</style>\n",
              "<table border=\"1\" class=\"dataframe\">\n",
              "  <thead>\n",
              "    <tr style=\"text-align: right;\">\n",
              "      <th></th>\n",
              "      <th>Rank</th>\n",
              "    </tr>\n",
              "    <tr>\n",
              "      <th>Consumer</th>\n",
              "      <th></th>\n",
              "    </tr>\n",
              "  </thead>\n",
              "  <tbody>\n",
              "    <tr>\n",
              "      <th>C5</th>\n",
              "      <td>10</td>\n",
              "    </tr>\n",
              "    <tr>\n",
              "      <th>C4</th>\n",
              "      <td>9</td>\n",
              "    </tr>\n",
              "    <tr>\n",
              "      <th>C10</th>\n",
              "      <td>8</td>\n",
              "    </tr>\n",
              "    <tr>\n",
              "      <th>C6</th>\n",
              "      <td>7</td>\n",
              "    </tr>\n",
              "    <tr>\n",
              "      <th>C3</th>\n",
              "      <td>6</td>\n",
              "    </tr>\n",
              "    <tr>\n",
              "      <th>C1</th>\n",
              "      <td>5</td>\n",
              "    </tr>\n",
              "    <tr>\n",
              "      <th>C9</th>\n",
              "      <td>4</td>\n",
              "    </tr>\n",
              "    <tr>\n",
              "      <th>C7</th>\n",
              "      <td>3</td>\n",
              "    </tr>\n",
              "    <tr>\n",
              "      <th>C8</th>\n",
              "      <td>2</td>\n",
              "    </tr>\n",
              "    <tr>\n",
              "      <th>C2</th>\n",
              "      <td>1</td>\n",
              "    </tr>\n",
              "  </tbody>\n",
              "</table>\n",
              "</div>"
            ],
            "text/plain": [
              "          Rank\n",
              "Consumer      \n",
              "C5          10\n",
              "C4           9\n",
              "C10          8\n",
              "C6           7\n",
              "C3           6\n",
              "C1           5\n",
              "C9           4\n",
              "C7           3\n",
              "C8           2\n",
              "C2           1"
            ]
          },
          "metadata": {
            "tags": []
          },
          "execution_count": 14
        }
      ]
    },
    {
      "cell_type": "markdown",
      "metadata": {
        "id": "moWtTRKo6UGZ"
      },
      "source": [
        "**Obtain prosumer ID**"
      ]
    },
    {
      "cell_type": "code",
      "metadata": {
        "colab": {
          "base_uri": "https://localhost:8080/"
        },
        "id": "lQcaxFa7elv0",
        "outputId": "924dc90d-57d7-49b4-9979-470a31ee3c12"
      },
      "source": [
        "generatedEnergy = pd.read_csv('generated energy.csv')\n",
        "Prosumer = list(generatedEnergy['Unnamed: 0'])\n",
        "Prosumer1 = list(generatedEnergy['Unnamed: 0'])\n",
        "Prosumer"
      ],
      "execution_count": 15,
      "outputs": [
        {
          "output_type": "execute_result",
          "data": {
            "text/plain": [
              "['P1', 'P2', 'P3', 'P4', 'P5', 'P6']"
            ]
          },
          "metadata": {
            "tags": []
          },
          "execution_count": 15
        }
      ]
    },
    {
      "cell_type": "markdown",
      "metadata": {
        "id": "jBeew0kR6clK"
      },
      "source": [
        "**Obtain generated energy in the community**"
      ]
    },
    {
      "cell_type": "code",
      "metadata": {
        "colab": {
          "base_uri": "https://localhost:8080/",
          "height": 235
        },
        "id": "sV7B_sdkesdy",
        "outputId": "ea8c253a-42e1-4374-a698-acca2577ce73"
      },
      "source": [
        "generated_energy = pd.read_csv('generated energy.csv', index_col=0)\n",
        "generated_energy"
      ],
      "execution_count": 16,
      "outputs": [
        {
          "output_type": "execute_result",
          "data": {
            "text/html": [
              "<div>\n",
              "<style scoped>\n",
              "    .dataframe tbody tr th:only-of-type {\n",
              "        vertical-align: middle;\n",
              "    }\n",
              "\n",
              "    .dataframe tbody tr th {\n",
              "        vertical-align: top;\n",
              "    }\n",
              "\n",
              "    .dataframe thead th {\n",
              "        text-align: right;\n",
              "    }\n",
              "</style>\n",
              "<table border=\"1\" class=\"dataframe\">\n",
              "  <thead>\n",
              "    <tr style=\"text-align: right;\">\n",
              "      <th></th>\n",
              "      <th>generated energy</th>\n",
              "    </tr>\n",
              "  </thead>\n",
              "  <tbody>\n",
              "    <tr>\n",
              "      <th>P1</th>\n",
              "      <td>31</td>\n",
              "    </tr>\n",
              "    <tr>\n",
              "      <th>P2</th>\n",
              "      <td>25</td>\n",
              "    </tr>\n",
              "    <tr>\n",
              "      <th>P3</th>\n",
              "      <td>39</td>\n",
              "    </tr>\n",
              "    <tr>\n",
              "      <th>P4</th>\n",
              "      <td>48</td>\n",
              "    </tr>\n",
              "    <tr>\n",
              "      <th>P5</th>\n",
              "      <td>39</td>\n",
              "    </tr>\n",
              "    <tr>\n",
              "      <th>P6</th>\n",
              "      <td>42</td>\n",
              "    </tr>\n",
              "  </tbody>\n",
              "</table>\n",
              "</div>"
            ],
            "text/plain": [
              "    generated energy\n",
              "P1                31\n",
              "P2                25\n",
              "P3                39\n",
              "P4                48\n",
              "P5                39\n",
              "P6                42"
            ]
          },
          "metadata": {
            "tags": []
          },
          "execution_count": 16
        }
      ]
    },
    {
      "cell_type": "markdown",
      "metadata": {
        "id": "96BQEP1W6lfx"
      },
      "source": [
        "**Sorting the storage energy**"
      ]
    },
    {
      "cell_type": "code",
      "metadata": {
        "colab": {
          "base_uri": "https://localhost:8080/"
        },
        "id": "-glV0mV1fMNV",
        "outputId": "5a354615-07e6-47e9-8140-0f56b4894717"
      },
      "source": [
        "n = len(generated_energy)\n",
        "prosumer = [] \n",
        "while n != 0:\n",
        "    max = Prosumer[0]\n",
        "    for i in range(0,n):\n",
        "      if generated_energy['generated energy'][max] < generated_energy['generated energy'][Prosumer[i]]:\n",
        "          max = Prosumer[i]\n",
        "      else:\n",
        "          max = max\n",
        "    prosumer.append(max)      \n",
        "    Prosumer.remove(max)\n",
        "    n -= 1\n",
        "print(prosumer)\n",
        "print(Prosumer)"
      ],
      "execution_count": 17,
      "outputs": [
        {
          "output_type": "stream",
          "text": [
            "['P4', 'P6', 'P3', 'P5', 'P1', 'P2']\n",
            "[]\n"
          ],
          "name": "stdout"
        }
      ]
    },
    {
      "cell_type": "code",
      "metadata": {
        "colab": {
          "base_uri": "https://localhost:8080/"
        },
        "id": "Cc4rUTAJ6d0z",
        "outputId": "de6c8bab-f807-41a4-9710-1315590858bc"
      },
      "source": [
        "Rank = list(reversed(range(0, len(prosumer))))\n",
        "\n",
        "prosumer_rank = pd.DataFrame(list(zip(prosumer, Rank)), columns =['Prosumer', 'Rank'])\n",
        "prosumer_rank = prosumer_rank.set_index('Prosumer')\n",
        "print(prosumer_rank)"
      ],
      "execution_count": 18,
      "outputs": [
        {
          "output_type": "stream",
          "text": [
            "          Rank\n",
            "Prosumer      \n",
            "P4           5\n",
            "P6           4\n",
            "P3           3\n",
            "P5           2\n",
            "P1           1\n",
            "P2           0\n"
          ],
          "name": "stdout"
        }
      ]
    },
    {
      "cell_type": "code",
      "metadata": {
        "colab": {
          "base_uri": "https://localhost:8080/",
          "height": 266
        },
        "id": "dR5WYDjH6it5",
        "outputId": "51294c7d-7b38-43db-abdc-382e561566c4"
      },
      "source": [
        "for p in prosumer:\n",
        "  prosumer_rank['Rank'][p] += 1\n",
        "prosumer_rank"
      ],
      "execution_count": 19,
      "outputs": [
        {
          "output_type": "execute_result",
          "data": {
            "text/html": [
              "<div>\n",
              "<style scoped>\n",
              "    .dataframe tbody tr th:only-of-type {\n",
              "        vertical-align: middle;\n",
              "    }\n",
              "\n",
              "    .dataframe tbody tr th {\n",
              "        vertical-align: top;\n",
              "    }\n",
              "\n",
              "    .dataframe thead th {\n",
              "        text-align: right;\n",
              "    }\n",
              "</style>\n",
              "<table border=\"1\" class=\"dataframe\">\n",
              "  <thead>\n",
              "    <tr style=\"text-align: right;\">\n",
              "      <th></th>\n",
              "      <th>Rank</th>\n",
              "    </tr>\n",
              "    <tr>\n",
              "      <th>Prosumer</th>\n",
              "      <th></th>\n",
              "    </tr>\n",
              "  </thead>\n",
              "  <tbody>\n",
              "    <tr>\n",
              "      <th>P4</th>\n",
              "      <td>6</td>\n",
              "    </tr>\n",
              "    <tr>\n",
              "      <th>P6</th>\n",
              "      <td>5</td>\n",
              "    </tr>\n",
              "    <tr>\n",
              "      <th>P3</th>\n",
              "      <td>4</td>\n",
              "    </tr>\n",
              "    <tr>\n",
              "      <th>P5</th>\n",
              "      <td>3</td>\n",
              "    </tr>\n",
              "    <tr>\n",
              "      <th>P1</th>\n",
              "      <td>2</td>\n",
              "    </tr>\n",
              "    <tr>\n",
              "      <th>P2</th>\n",
              "      <td>1</td>\n",
              "    </tr>\n",
              "  </tbody>\n",
              "</table>\n",
              "</div>"
            ],
            "text/plain": [
              "          Rank\n",
              "Prosumer      \n",
              "P4           6\n",
              "P6           5\n",
              "P3           4\n",
              "P5           3\n",
              "P1           2\n",
              "P2           1"
            ]
          },
          "metadata": {
            "tags": []
          },
          "execution_count": 19
        }
      ]
    },
    {
      "cell_type": "markdown",
      "metadata": {
        "id": "jvl0Rd4UDVgL"
      },
      "source": [
        "**Energy is allocated in the order of the bid amount**"
      ]
    },
    {
      "cell_type": "code",
      "metadata": {
        "colab": {
          "base_uri": "https://localhost:8080/"
        },
        "id": "bSwmjfG6gsvF",
        "outputId": "b6cfb808-7d80-4d81-dc9f-608107a39be2"
      },
      "source": [
        "model = ConcreteModel()\n",
        "model.dual = Suffix(direction=Suffix.IMPORT)\n",
        "\n",
        "model.transport = Var(prosumer, consumer , domain = NonNegativeReals)\n",
        "\n",
        "\n",
        "# model.revenue = Objective(expr = sum(model.transport[p, c]*bid['bid'][c] for c in consumer for p in prosumer), \n",
        "#                            sense = maximize)\n",
        "\n",
        "model.revenue = Objective(expr = sum(model.transport[p, c]*bid['bid'][c]*(consumer_rank['Rank'][c])*(prosumer_rank['Rank'][p]) for c in consumer for p in prosumer), \n",
        "                           sense = maximize)\n",
        "\n",
        "model.supply = ConstraintList()\n",
        "for p in prosumer:\n",
        "      model.supply.add(sum(model.transport[p, c] for c in consumer) <= generated_energy['generated energy'][p])\n",
        "\n",
        "model.demand = ConstraintList()\n",
        "for c in consumer:\n",
        "      model.demand.add(sum(model.transport[p, c] for p in prosumer) <= demand['demand'][c])\n",
        "\n",
        "results = SolverFactory('cbc').solve(model)\n",
        "results.write()"
      ],
      "execution_count": 20,
      "outputs": [
        {
          "output_type": "stream",
          "text": [
            "# ==========================================================\n",
            "# = Solver Results                                         =\n",
            "# ==========================================================\n",
            "# ----------------------------------------------------------\n",
            "#   Problem Information\n",
            "# ----------------------------------------------------------\n",
            "Problem: \n",
            "- Name: unknown\n",
            "  Lower bound: 98282.0\n",
            "  Upper bound: 98282.0\n",
            "  Number of objectives: 1\n",
            "  Number of constraints: 17\n",
            "  Number of variables: 61\n",
            "  Number of nonzeros: 60\n",
            "  Sense: maximize\n",
            "# ----------------------------------------------------------\n",
            "#   Solver Information\n",
            "# ----------------------------------------------------------\n",
            "Solver: \n",
            "- Status: ok\n",
            "  User time: -1.0\n",
            "  System time: 0.0\n",
            "  Wallclock time: 0.0\n",
            "  Termination condition: optimal\n",
            "  Termination message: Model was solved to optimality (subject to tolerances), and an optimal solution is available.\n",
            "  Statistics: \n",
            "    Branch and bound: \n",
            "      Number of bounded subproblems: None\n",
            "      Number of created subproblems: None\n",
            "    Black box: \n",
            "      Number of iterations: 37\n",
            "  Error rc: 0\n",
            "  Time: 0.017291784286499023\n",
            "# ----------------------------------------------------------\n",
            "#   Solution Information\n",
            "# ----------------------------------------------------------\n",
            "Solution: \n",
            "- number of solutions: 0\n",
            "  number of solutions displayed: 0\n"
          ],
          "name": "stdout"
        }
      ]
    },
    {
      "cell_type": "code",
      "metadata": {
        "colab": {
          "base_uri": "https://localhost:8080/"
        },
        "id": "s0Bm-Tc7hWfT",
        "outputId": "77794979-f04d-4aa3-fba9-8e3cde1aaef4"
      },
      "source": [
        "model.pprint()"
      ],
      "execution_count": 21,
      "outputs": [
        {
          "output_type": "stream",
          "text": [
            "5 Set Declarations\n",
            "    demand_index : Size=1, Index=None, Ordered=Insertion\n",
            "        Key  : Dimen : Domain : Size : Members\n",
            "        None :     1 :    Any :   10 : {1, 2, 3, 4, 5, 6, 7, 8, 9, 10}\n",
            "    supply_index : Size=1, Index=None, Ordered=Insertion\n",
            "        Key  : Dimen : Domain : Size : Members\n",
            "        None :     1 :    Any :    6 : {1, 2, 3, 4, 5, 6}\n",
            "    transport_index : Size=1, Index=None, Ordered=True\n",
            "        Key  : Dimen : Domain                              : Size : Members\n",
            "        None :     2 : transport_index_0*transport_index_1 :   60 : {('P4', 'C5'), ('P4', 'C4'), ('P4', 'C10'), ('P4', 'C6'), ('P4', 'C3'), ('P4', 'C1'), ('P4', 'C9'), ('P4', 'C7'), ('P4', 'C8'), ('P4', 'C2'), ('P6', 'C5'), ('P6', 'C4'), ('P6', 'C10'), ('P6', 'C6'), ('P6', 'C3'), ('P6', 'C1'), ('P6', 'C9'), ('P6', 'C7'), ('P6', 'C8'), ('P6', 'C2'), ('P3', 'C5'), ('P3', 'C4'), ('P3', 'C10'), ('P3', 'C6'), ('P3', 'C3'), ('P3', 'C1'), ('P3', 'C9'), ('P3', 'C7'), ('P3', 'C8'), ('P3', 'C2'), ('P5', 'C5'), ('P5', 'C4'), ('P5', 'C10'), ('P5', 'C6'), ('P5', 'C3'), ('P5', 'C1'), ('P5', 'C9'), ('P5', 'C7'), ('P5', 'C8'), ('P5', 'C2'), ('P1', 'C5'), ('P1', 'C4'), ('P1', 'C10'), ('P1', 'C6'), ('P1', 'C3'), ('P1', 'C1'), ('P1', 'C9'), ('P1', 'C7'), ('P1', 'C8'), ('P1', 'C2'), ('P2', 'C5'), ('P2', 'C4'), ('P2', 'C10'), ('P2', 'C6'), ('P2', 'C3'), ('P2', 'C1'), ('P2', 'C9'), ('P2', 'C7'), ('P2', 'C8'), ('P2', 'C2')}\n",
            "    transport_index_0 : Size=1, Index=None, Ordered=Insertion\n",
            "        Key  : Dimen : Domain : Size : Members\n",
            "        None :     1 :    Any :    6 : {'P4', 'P6', 'P3', 'P5', 'P1', 'P2'}\n",
            "    transport_index_1 : Size=1, Index=None, Ordered=Insertion\n",
            "        Key  : Dimen : Domain : Size : Members\n",
            "        None :     1 :    Any :   10 : {'C5', 'C4', 'C10', 'C6', 'C3', 'C1', 'C9', 'C7', 'C8', 'C2'}\n",
            "\n",
            "1 Var Declarations\n",
            "    transport : Size=60, Index=transport_index\n",
            "        Key           : Lower : Value : Upper : Fixed : Stale : Domain\n",
            "         ('P1', 'C1') :     0 :   0.0 :  None : False : False : NonNegativeReals\n",
            "        ('P1', 'C10') :     0 :   0.0 :  None : False : False : NonNegativeReals\n",
            "         ('P1', 'C2') :     0 :  11.0 :  None : False : False : NonNegativeReals\n",
            "         ('P1', 'C3') :     0 :   0.0 :  None : False : False : NonNegativeReals\n",
            "         ('P1', 'C4') :     0 :   0.0 :  None : False : False : NonNegativeReals\n",
            "         ('P1', 'C5') :     0 :   0.0 :  None : False : False : NonNegativeReals\n",
            "         ('P1', 'C6') :     0 :   0.0 :  None : False : False : NonNegativeReals\n",
            "         ('P1', 'C7') :     0 :   0.0 :  None : False : False : NonNegativeReals\n",
            "         ('P1', 'C8') :     0 :   0.0 :  None : False : False : NonNegativeReals\n",
            "         ('P1', 'C9') :     0 :   0.0 :  None : False : False : NonNegativeReals\n",
            "         ('P2', 'C1') :     0 :   0.0 :  None : False : False : NonNegativeReals\n",
            "        ('P2', 'C10') :     0 :   0.0 :  None : False : False : NonNegativeReals\n",
            "         ('P2', 'C2') :     0 :   0.0 :  None : False : False : NonNegativeReals\n",
            "         ('P2', 'C3') :     0 :   0.0 :  None : False : False : NonNegativeReals\n",
            "         ('P2', 'C4') :     0 :   0.0 :  None : False : False : NonNegativeReals\n",
            "         ('P2', 'C5') :     0 :   0.0 :  None : False : False : NonNegativeReals\n",
            "         ('P2', 'C6') :     0 :   0.0 :  None : False : False : NonNegativeReals\n",
            "         ('P2', 'C7') :     0 :   0.0 :  None : False : False : NonNegativeReals\n",
            "         ('P2', 'C8') :     0 :   0.0 :  None : False : False : NonNegativeReals\n",
            "         ('P2', 'C9') :     0 :   0.0 :  None : False : False : NonNegativeReals\n",
            "         ('P3', 'C1') :     0 :  16.0 :  None : False : False : NonNegativeReals\n",
            "        ('P3', 'C10') :     0 :   0.0 :  None : False : False : NonNegativeReals\n",
            "         ('P3', 'C2') :     0 :   0.0 :  None : False : False : NonNegativeReals\n",
            "         ('P3', 'C3') :     0 :   0.0 :  None : False : False : NonNegativeReals\n",
            "         ('P3', 'C4') :     0 :   0.0 :  None : False : False : NonNegativeReals\n",
            "         ('P3', 'C5') :     0 :   0.0 :  None : False : False : NonNegativeReals\n",
            "         ('P3', 'C6') :     0 :   0.0 :  None : False : False : NonNegativeReals\n",
            "         ('P3', 'C7') :     0 :   9.0 :  None : False : False : NonNegativeReals\n",
            "         ('P3', 'C8') :     0 :   0.0 :  None : False : False : NonNegativeReals\n",
            "         ('P3', 'C9') :     0 :  14.0 :  None : False : False : NonNegativeReals\n",
            "         ('P4', 'C1') :     0 :   0.0 :  None : False : False : NonNegativeReals\n",
            "        ('P4', 'C10') :     0 :  16.0 :  None : False : False : NonNegativeReals\n",
            "         ('P4', 'C2') :     0 :   0.0 :  None : False : False : NonNegativeReals\n",
            "         ('P4', 'C3') :     0 :   0.0 :  None : False : False : NonNegativeReals\n",
            "         ('P4', 'C4') :     0 :  19.0 :  None : False : False : NonNegativeReals\n",
            "         ('P4', 'C5') :     0 :  13.0 :  None : False : False : NonNegativeReals\n",
            "         ('P4', 'C6') :     0 :   0.0 :  None : False : False : NonNegativeReals\n",
            "         ('P4', 'C7') :     0 :   0.0 :  None : False : False : NonNegativeReals\n",
            "         ('P4', 'C8') :     0 :   0.0 :  None : False : False : NonNegativeReals\n",
            "         ('P4', 'C9') :     0 :   0.0 :  None : False : False : NonNegativeReals\n",
            "         ('P5', 'C1') :     0 :   0.0 :  None : False : False : NonNegativeReals\n",
            "        ('P5', 'C10') :     0 :   0.0 :  None : False : False : NonNegativeReals\n",
            "         ('P5', 'C2') :     0 :  11.0 :  None : False : False : NonNegativeReals\n",
            "         ('P5', 'C3') :     0 :   0.0 :  None : False : False : NonNegativeReals\n",
            "         ('P5', 'C4') :     0 :   0.0 :  None : False : False : NonNegativeReals\n",
            "         ('P5', 'C5') :     0 :   0.0 :  None : False : False : NonNegativeReals\n",
            "         ('P5', 'C6') :     0 :   0.0 :  None : False : False : NonNegativeReals\n",
            "         ('P5', 'C7') :     0 :  11.0 :  None : False : False : NonNegativeReals\n",
            "         ('P5', 'C8') :     0 :  17.0 :  None : False : False : NonNegativeReals\n",
            "         ('P5', 'C9') :     0 :   0.0 :  None : False : False : NonNegativeReals\n",
            "         ('P6', 'C1') :     0 :   4.0 :  None : False : False : NonNegativeReals\n",
            "        ('P6', 'C10') :     0 :   6.0 :  None : False : False : NonNegativeReals\n",
            "         ('P6', 'C2') :     0 :   0.0 :  None : False : False : NonNegativeReals\n",
            "         ('P6', 'C3') :     0 :  12.0 :  None : False : False : NonNegativeReals\n",
            "         ('P6', 'C4') :     0 :   0.0 :  None : False : False : NonNegativeReals\n",
            "         ('P6', 'C5') :     0 :   0.0 :  None : False : False : NonNegativeReals\n",
            "         ('P6', 'C6') :     0 :  20.0 :  None : False : False : NonNegativeReals\n",
            "         ('P6', 'C7') :     0 :   0.0 :  None : False : False : NonNegativeReals\n",
            "         ('P6', 'C8') :     0 :   0.0 :  None : False : False : NonNegativeReals\n",
            "         ('P6', 'C9') :     0 :   0.0 :  None : False : False : NonNegativeReals\n",
            "\n",
            "1 Objective Declarations\n",
            "    revenue : Size=1, Index=None, Active=True\n",
            "        Key  : Active : Sense    : Expression\n",
            "        None :   True : maximize : 1320*transport[P4,C5] + 1100*transport[P6,C5] + 880*transport[P3,C5] + 660*transport[P5,C5] + 440*transport[P1,C5] + 220*transport[P2,C5] + 1134*transport[P4,C4] + 945*transport[P6,C4] + 756*transport[P3,C4] + 567*transport[P5,C4] + 378*transport[P1,C4] + 189*transport[P2,C4] + 1008*transport[P4,C10] + 840*transport[P6,C10] + 672*transport[P3,C10] + 504*transport[P5,C10] + 336*transport[P1,C10] + 168*transport[P2,C10] + 840*transport[P4,C6] + 700*transport[P6,C6] + 560*transport[P3,C6] + 420*transport[P5,C6] + 280*transport[P1,C6] + 140*transport[P2,C6] + 684*transport[P4,C3] + 570*transport[P6,C3] + 456*transport[P3,C3] + 342*transport[P5,C3] + 228*transport[P1,C3] + 114*transport[P2,C3] + 540*transport[P4,C1] + 450*transport[P6,C1] + 360*transport[P3,C1] + 270*transport[P5,C1] + 180*transport[P1,C1] + 90*transport[P2,C1] + 432*transport[P4,C9] + 360*transport[P6,C9] + 288*transport[P3,C9] + 216*transport[P5,C9] + 144*transport[P1,C9] + 72*transport[P2,C9] + 306*transport[P4,C7] + 255*transport[P6,C7] + 204*transport[P3,C7] + 153*transport[P5,C7] + 102*transport[P1,C7] + 51*transport[P2,C7] + 192*transport[P4,C8] + 160*transport[P6,C8] + 128*transport[P3,C8] + 96*transport[P5,C8] + 64*transport[P1,C8] + 32*transport[P2,C8] + 90*transport[P4,C2] + 75*transport[P6,C2] + 60*transport[P3,C2] + 45*transport[P5,C2] + 30*transport[P1,C2] + 15*transport[P2,C2]\n",
            "\n",
            "2 Constraint Declarations\n",
            "    demand : Size=10, Index=demand_index, Active=True\n",
            "        Key : Lower : Body                                                                                                                  : Upper : Active\n",
            "          1 :  -Inf :       transport[P4,C5] + transport[P6,C5] + transport[P3,C5] + transport[P5,C5] + transport[P1,C5] + transport[P2,C5] :  13.0 :   True\n",
            "          2 :  -Inf :       transport[P4,C4] + transport[P6,C4] + transport[P3,C4] + transport[P5,C4] + transport[P1,C4] + transport[P2,C4] :  19.0 :   True\n",
            "          3 :  -Inf : transport[P4,C10] + transport[P6,C10] + transport[P3,C10] + transport[P5,C10] + transport[P1,C10] + transport[P2,C10] :  22.0 :   True\n",
            "          4 :  -Inf :       transport[P4,C6] + transport[P6,C6] + transport[P3,C6] + transport[P5,C6] + transport[P1,C6] + transport[P2,C6] :  20.0 :   True\n",
            "          5 :  -Inf :       transport[P4,C3] + transport[P6,C3] + transport[P3,C3] + transport[P5,C3] + transport[P1,C3] + transport[P2,C3] :  12.0 :   True\n",
            "          6 :  -Inf :       transport[P4,C1] + transport[P6,C1] + transport[P3,C1] + transport[P5,C1] + transport[P1,C1] + transport[P2,C1] :  20.0 :   True\n",
            "          7 :  -Inf :       transport[P4,C9] + transport[P6,C9] + transport[P3,C9] + transport[P5,C9] + transport[P1,C9] + transport[P2,C9] :  14.0 :   True\n",
            "          8 :  -Inf :       transport[P4,C7] + transport[P6,C7] + transport[P3,C7] + transport[P5,C7] + transport[P1,C7] + transport[P2,C7] :  20.0 :   True\n",
            "          9 :  -Inf :       transport[P4,C8] + transport[P6,C8] + transport[P3,C8] + transport[P5,C8] + transport[P1,C8] + transport[P2,C8] :  17.0 :   True\n",
            "         10 :  -Inf :       transport[P4,C2] + transport[P6,C2] + transport[P3,C2] + transport[P5,C2] + transport[P1,C2] + transport[P2,C2] :  22.0 :   True\n",
            "    supply : Size=6, Index=supply_index, Active=True\n",
            "        Key : Lower : Body                                                                                                                                                                                         : Upper : Active\n",
            "          1 :  -Inf : transport[P4,C5] + transport[P4,C4] + transport[P4,C10] + transport[P4,C6] + transport[P4,C3] + transport[P4,C1] + transport[P4,C9] + transport[P4,C7] + transport[P4,C8] + transport[P4,C2] :  48.0 :   True\n",
            "          2 :  -Inf : transport[P6,C5] + transport[P6,C4] + transport[P6,C10] + transport[P6,C6] + transport[P6,C3] + transport[P6,C1] + transport[P6,C9] + transport[P6,C7] + transport[P6,C8] + transport[P6,C2] :  42.0 :   True\n",
            "          3 :  -Inf : transport[P3,C5] + transport[P3,C4] + transport[P3,C10] + transport[P3,C6] + transport[P3,C3] + transport[P3,C1] + transport[P3,C9] + transport[P3,C7] + transport[P3,C8] + transport[P3,C2] :  39.0 :   True\n",
            "          4 :  -Inf : transport[P5,C5] + transport[P5,C4] + transport[P5,C10] + transport[P5,C6] + transport[P5,C3] + transport[P5,C1] + transport[P5,C9] + transport[P5,C7] + transport[P5,C8] + transport[P5,C2] :  39.0 :   True\n",
            "          5 :  -Inf : transport[P1,C5] + transport[P1,C4] + transport[P1,C10] + transport[P1,C6] + transport[P1,C3] + transport[P1,C1] + transport[P1,C9] + transport[P1,C7] + transport[P1,C8] + transport[P1,C2] :  31.0 :   True\n",
            "          6 :  -Inf : transport[P2,C5] + transport[P2,C4] + transport[P2,C10] + transport[P2,C6] + transport[P2,C3] + transport[P2,C1] + transport[P2,C9] + transport[P2,C7] + transport[P2,C8] + transport[P2,C2] :  25.0 :   True\n",
            "\n",
            "1 Suffix Declarations\n",
            "    dual : Direction=Suffix.IMPORT, Datatype=Suffix.FLOAT\n",
            "        Key        : Value\n",
            "        demand[10] :  30.0\n",
            "         demand[1] : 996.0\n",
            "         demand[2] : 810.0\n",
            "         demand[3] : 684.0\n",
            "         demand[4] : 544.0\n",
            "         demand[5] : 414.0\n",
            "         demand[6] : 294.0\n",
            "         demand[7] : 222.0\n",
            "         demand[8] : 138.0\n",
            "         demand[9] :  81.0\n",
            "         supply[1] : 324.0\n",
            "         supply[2] : 156.0\n",
            "         supply[3] :  66.0\n",
            "         supply[4] :  15.0\n",
            "         supply[5] :  -0.0\n",
            "         supply[6] :  -0.0\n",
            "\n",
            "10 Declarations: dual transport_index_0 transport_index_1 transport_index transport revenue supply_index supply demand_index demand\n"
          ],
          "name": "stdout"
        }
      ]
    },
    {
      "cell_type": "code",
      "metadata": {
        "colab": {
          "base_uri": "https://localhost:8080/"
        },
        "id": "XcuIElulhdME",
        "outputId": "f6871a61-3a9c-4634-8ac1-8caaedf0b945"
      },
      "source": [
        "for p in prosumer:\n",
        "    for c in consumer:\n",
        "        print(p, c, model.transport[p,c]())"
      ],
      "execution_count": 22,
      "outputs": [
        {
          "output_type": "stream",
          "text": [
            "P4 C5 13.0\n",
            "P4 C4 19.0\n",
            "P4 C10 16.0\n",
            "P4 C6 0.0\n",
            "P4 C3 0.0\n",
            "P4 C1 0.0\n",
            "P4 C9 0.0\n",
            "P4 C7 0.0\n",
            "P4 C8 0.0\n",
            "P4 C2 0.0\n",
            "P6 C5 0.0\n",
            "P6 C4 0.0\n",
            "P6 C10 6.0\n",
            "P6 C6 20.0\n",
            "P6 C3 12.0\n",
            "P6 C1 4.0\n",
            "P6 C9 0.0\n",
            "P6 C7 0.0\n",
            "P6 C8 0.0\n",
            "P6 C2 0.0\n",
            "P3 C5 0.0\n",
            "P3 C4 0.0\n",
            "P3 C10 0.0\n",
            "P3 C6 0.0\n",
            "P3 C3 0.0\n",
            "P3 C1 16.0\n",
            "P3 C9 14.0\n",
            "P3 C7 9.0\n",
            "P3 C8 0.0\n",
            "P3 C2 0.0\n",
            "P5 C5 0.0\n",
            "P5 C4 0.0\n",
            "P5 C10 0.0\n",
            "P5 C6 0.0\n",
            "P5 C3 0.0\n",
            "P5 C1 0.0\n",
            "P5 C9 0.0\n",
            "P5 C7 11.0\n",
            "P5 C8 17.0\n",
            "P5 C2 11.0\n",
            "P1 C5 0.0\n",
            "P1 C4 0.0\n",
            "P1 C10 0.0\n",
            "P1 C6 0.0\n",
            "P1 C3 0.0\n",
            "P1 C1 0.0\n",
            "P1 C9 0.0\n",
            "P1 C7 0.0\n",
            "P1 C8 0.0\n",
            "P1 C2 11.0\n",
            "P2 C5 0.0\n",
            "P2 C4 0.0\n",
            "P2 C10 0.0\n",
            "P2 C6 0.0\n",
            "P2 C3 0.0\n",
            "P2 C1 0.0\n",
            "P2 C9 0.0\n",
            "P2 C7 0.0\n",
            "P2 C8 0.0\n",
            "P2 C2 0.0\n"
          ],
          "name": "stdout"
        }
      ]
    },
    {
      "cell_type": "markdown",
      "metadata": {
        "id": "ASbGK3F-7CXS"
      },
      "source": [
        ""
      ]
    },
    {
      "cell_type": "code",
      "metadata": {
        "colab": {
          "base_uri": "https://localhost:8080/"
        },
        "id": "IbiVOnoVhju0",
        "outputId": "725a5d3f-7534-411e-9a64-ef5d868cdb6e"
      },
      "source": [
        "if 'ok' == str(results.Solver.status):\n",
        "    print(\"Total Community Revenue = \",model.revenue())\n",
        "    print(\"\\nTransport Table:\")\n",
        "    for p in Prosumer1:\n",
        "        for c in Consumer1:\n",
        "            if model.transport[p,c]() > 0:\n",
        "                print(\"Transport from \", p,\" to \", c, \":\", model.transport[p,c](),'KWh')\n",
        "else:\n",
        "    print(\"No Valid Solution Found\")"
      ],
      "execution_count": 23,
      "outputs": [
        {
          "output_type": "stream",
          "text": [
            "Total Community Revenue =  98282.0\n",
            "\n",
            "Transport Table:\n",
            "Transport from  P1  to  C2 : 11.0 KWh\n",
            "Transport from  P3  to  C1 : 16.0 KWh\n",
            "Transport from  P3  to  C7 : 9.0 KWh\n",
            "Transport from  P3  to  C9 : 14.0 KWh\n",
            "Transport from  P4  to  C4 : 19.0 KWh\n",
            "Transport from  P4  to  C5 : 13.0 KWh\n",
            "Transport from  P4  to  C10 : 16.0 KWh\n",
            "Transport from  P5  to  C2 : 11.0 KWh\n",
            "Transport from  P5  to  C7 : 11.0 KWh\n",
            "Transport from  P5  to  C8 : 17.0 KWh\n",
            "Transport from  P6  to  C1 : 4.0 KWh\n",
            "Transport from  P6  to  C3 : 12.0 KWh\n",
            "Transport from  P6  to  C6 : 20.0 KWh\n",
            "Transport from  P6  to  C10 : 6.0 KWh\n"
          ],
          "name": "stdout"
        }
      ]
    },
    {
      "cell_type": "code",
      "metadata": {
        "colab": {
          "base_uri": "https://localhost:8080/"
        },
        "id": "3JPH1PCUiuW1",
        "outputId": "fa9ea463-a7fc-4341-a47a-ce7e1773c3ad"
      },
      "source": [
        "n = 0\n",
        "if 'ok' == str(results.Solver.status):\n",
        "    print(\"Personal Revenue:\\n\")\n",
        "    for c in consumer:\n",
        "        for p in prosumer:\n",
        "            if model.transport[p,c]() > 0:\n",
        "                print(\"Balance from \", c,\" to \", p, \":\", model.transport[p,c]() * bid['bid'][c])\n",
        "else:\n",
        "    print(\"No Valid Solution Found\")"
      ],
      "execution_count": 24,
      "outputs": [
        {
          "output_type": "stream",
          "text": [
            "Personal Revenue:\n",
            "\n",
            "Balance from  C5  to  P4 : 286.0\n",
            "Balance from  C4  to  P4 : 399.0\n",
            "Balance from  C10  to  P4 : 336.0\n",
            "Balance from  C10  to  P6 : 126.0\n",
            "Balance from  C6  to  P6 : 400.0\n",
            "Balance from  C3  to  P6 : 228.0\n",
            "Balance from  C1  to  P6 : 72.0\n",
            "Balance from  C1  to  P3 : 288.0\n",
            "Balance from  C9  to  P3 : 252.0\n",
            "Balance from  C7  to  P3 : 153.0\n",
            "Balance from  C7  to  P5 : 187.0\n",
            "Balance from  C8  to  P5 : 272.0\n",
            "Balance from  C2  to  P5 : 165.0\n",
            "Balance from  C2  to  P1 : 165.0\n"
          ],
          "name": "stdout"
        }
      ]
    },
    {
      "cell_type": "code",
      "metadata": {
        "colab": {
          "base_uri": "https://localhost:8080/"
        },
        "id": "H11GWqWgi7r1",
        "outputId": "0a2103fd-ca9c-4f74-95cd-4e93b9f2c316"
      },
      "source": [
        "n = 0\n",
        "m = 0\n",
        "if 'ok' == str(results.Solver.status):\n",
        "    print(\"Personal Revenue:\\n\")\n",
        "    for p in prosumer:\n",
        "      for c in consumer:\n",
        "          n += model.transport[p, c]() * bid['bid'][c] \n",
        "          m += model.transport[p, c]() * bid['bid'][c] \n",
        "      print(\"The revenue of\",p ,\":\" , n)\n",
        "      n = 0\n",
        "else:\n",
        "    print(\"No Valid Solution Found\")\n",
        "print('\\nTotal revenue:',m)"
      ],
      "execution_count": 25,
      "outputs": [
        {
          "output_type": "stream",
          "text": [
            "Personal Revenue:\n",
            "\n",
            "The revenue of P4 : 1021.0\n",
            "The revenue of P6 : 826.0\n",
            "The revenue of P3 : 693.0\n",
            "The revenue of P5 : 624.0\n",
            "The revenue of P1 : 165.0\n",
            "The revenue of P2 : 0.0\n",
            "\n",
            "Total revenue: 3329.0\n"
          ],
          "name": "stdout"
        }
      ]
    },
    {
      "cell_type": "code",
      "metadata": {
        "colab": {
          "base_uri": "https://localhost:8080/"
        },
        "id": "6NsNLBtojWEE",
        "outputId": "09110138-1260-4d1d-a749-1e72630a87c2"
      },
      "source": [
        "n = 0\n",
        "if 'ok' == str(results.Solver.status):\n",
        "    print(\"The exported electricity to the grid:\\n\")\n",
        "    for p in prosumer:\n",
        "        n = generated_energy['generated energy'][p]\n",
        "        for c in consumer:\n",
        "            n -= model.transport[p, c]()\n",
        "        if n > 0 :\n",
        "            print(p, \"will export \",n , \"KWh to the grid\") "
      ],
      "execution_count": 26,
      "outputs": [
        {
          "output_type": "stream",
          "text": [
            "The exported electricity to the grid:\n",
            "\n",
            "P1 will export  20.0 KWh to the grid\n",
            "P2 will export  25.0 KWh to the grid\n"
          ],
          "name": "stdout"
        }
      ]
    },
    {
      "cell_type": "code",
      "metadata": {
        "colab": {
          "base_uri": "https://localhost:8080/"
        },
        "id": "d3GA3WPb6uyr",
        "outputId": "faa686d0-b1ea-4a37-b27e-e1834b2693b5"
      },
      "source": [
        "n = 0\n",
        "if 'ok' == str(results.Solver.status):\n",
        "    print(\"Personal Revenue:\\n\")\n",
        "    for c in Consumer1:\n",
        "      for p in Prosumer1:\n",
        "          n += model.transport[p, c]()\n",
        "      print(\"The received energy of\",c ,\":\" , n)\n",
        "      n = 0\n",
        "else:\n",
        "    print(\"No Valid Solution Found\")"
      ],
      "execution_count": 27,
      "outputs": [
        {
          "output_type": "stream",
          "text": [
            "Personal Revenue:\n",
            "\n",
            "The received energy of C1 : 20.0\n",
            "The received energy of C2 : 22.0\n",
            "The received energy of C3 : 12.0\n",
            "The received energy of C4 : 19.0\n",
            "The received energy of C5 : 13.0\n",
            "The received energy of C6 : 20.0\n",
            "The received energy of C7 : 20.0\n",
            "The received energy of C8 : 17.0\n",
            "The received energy of C9 : 14.0\n",
            "The received energy of C10 : 22.0\n"
          ],
          "name": "stdout"
        }
      ]
    }
  ]
}