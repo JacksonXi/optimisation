{
  "nbformat": 4,
  "nbformat_minor": 0,
  "metadata": {
    "colab": {
      "name": "flexible_control.ipynb",
      "provenance": [],
      "authorship_tag": "ABX9TyNneR33/TbbhP33l+SJWN8a",
      "include_colab_link": true
    },
    "kernelspec": {
      "name": "python3",
      "display_name": "Python 3"
    },
    "language_info": {
      "name": "python"
    }
  },
  "cells": [
    {
      "cell_type": "markdown",
      "metadata": {
        "id": "view-in-github",
        "colab_type": "text"
      },
      "source": [
        "<a href=\"https://colab.research.google.com/github/JacksonXi/optimisation/blob/main/flexible_control.ipynb\" target=\"_parent\"><img src=\"https://colab.research.google.com/assets/colab-badge.svg\" alt=\"Open In Colab\"/></a>"
      ]
    },
    {
      "cell_type": "code",
      "metadata": {
        "id": "7QxIb4BZ0MAh",
        "colab": {
          "base_uri": "https://localhost:8080/"
        },
        "outputId": "863db5c9-30c9-46fc-c296-20248ecc3b8d"
      },
      "source": [
        "import shutil\n",
        "import sys\n",
        "import os.path\n",
        "import numpy as np\n",
        "import pandas as pd\n",
        "\n",
        "if not shutil.which(\"pyomo\"):\n",
        "    !pip install -q pyomo\n",
        "    assert(shutil.which(\"pyomo\"))\n",
        "\n",
        "if not (shutil.which(\"cbc\") or os.path.isfile(\"cbc\")):\n",
        "    if \"google.colab\" in sys.modules:\n",
        "        !apt-get install -y -qq coinor-cbc\n",
        "    else:\n",
        "        try:\n",
        "            !conda install -c conda-forge coincbc \n",
        "        except:\n",
        "            pass\n",
        "\n",
        "assert(shutil.which(\"cbc\") or os.path.isfile(\"cbc\"))\n",
        "    \n",
        "from pyomo.environ import *\n"
      ],
      "execution_count": 1,
      "outputs": [
        {
          "output_type": "stream",
          "text": [
            "\u001b[K     |████████████████████████████████| 8.9 MB 7.3 MB/s \n",
            "\u001b[K     |████████████████████████████████| 49 kB 5.0 MB/s \n",
            "\u001b[?25hSelecting previously unselected package coinor-libcoinutils3v5.\n",
            "(Reading database ... 160837 files and directories currently installed.)\n",
            "Preparing to unpack .../0-coinor-libcoinutils3v5_2.10.14+repack1-1_amd64.deb ...\n",
            "Unpacking coinor-libcoinutils3v5 (2.10.14+repack1-1) ...\n",
            "Selecting previously unselected package coinor-libosi1v5.\n",
            "Preparing to unpack .../1-coinor-libosi1v5_0.107.9+repack1-1_amd64.deb ...\n",
            "Unpacking coinor-libosi1v5 (0.107.9+repack1-1) ...\n",
            "Selecting previously unselected package coinor-libclp1.\n",
            "Preparing to unpack .../2-coinor-libclp1_1.16.11+repack1-1_amd64.deb ...\n",
            "Unpacking coinor-libclp1 (1.16.11+repack1-1) ...\n",
            "Selecting previously unselected package coinor-libcgl1.\n",
            "Preparing to unpack .../3-coinor-libcgl1_0.59.10+repack1-1_amd64.deb ...\n",
            "Unpacking coinor-libcgl1 (0.59.10+repack1-1) ...\n",
            "Selecting previously unselected package coinor-libcbc3.\n",
            "Preparing to unpack .../4-coinor-libcbc3_2.9.9+repack1-1_amd64.deb ...\n",
            "Unpacking coinor-libcbc3 (2.9.9+repack1-1) ...\n",
            "Selecting previously unselected package coinor-cbc.\n",
            "Preparing to unpack .../5-coinor-cbc_2.9.9+repack1-1_amd64.deb ...\n",
            "Unpacking coinor-cbc (2.9.9+repack1-1) ...\n",
            "Setting up coinor-libcoinutils3v5 (2.10.14+repack1-1) ...\n",
            "Setting up coinor-libosi1v5 (0.107.9+repack1-1) ...\n",
            "Setting up coinor-libclp1 (1.16.11+repack1-1) ...\n",
            "Setting up coinor-libcgl1 (0.59.10+repack1-1) ...\n",
            "Setting up coinor-libcbc3 (2.9.9+repack1-1) ...\n",
            "Setting up coinor-cbc (2.9.9+repack1-1) ...\n",
            "Processing triggers for man-db (2.8.3-2ubuntu0.1) ...\n",
            "Processing triggers for libc-bin (2.27-3ubuntu1.2) ...\n",
            "/sbin/ldconfig.real: /usr/local/lib/python3.7/dist-packages/ideep4py/lib/libmkldnn.so.0 is not a symbolic link\n",
            "\n"
          ],
          "name": "stdout"
        }
      ]
    },
    {
      "cell_type": "code",
      "metadata": {
        "colab": {
          "base_uri": "https://localhost:8080/"
        },
        "id": "bM0XYdWO2476",
        "outputId": "10aea135-e2fb-420e-c3ff-93d89664fffa"
      },
      "source": [
        "!git clone https://github.com/JacksonXi/optimisation"
      ],
      "execution_count": 2,
      "outputs": [
        {
          "output_type": "stream",
          "text": [
            "Cloning into 'optimisation'...\n",
            "remote: Enumerating objects: 49, done.\u001b[K\n",
            "remote: Counting objects: 100% (49/49), done.\u001b[K\n",
            "remote: Compressing objects: 100% (40/40), done.\u001b[K\n",
            "remote: Total 49 (delta 8), reused 0 (delta 0), pack-reused 0\u001b[K\n",
            "Unpacking objects: 100% (49/49), done.\n"
          ],
          "name": "stdout"
        }
      ]
    },
    {
      "cell_type": "code",
      "metadata": {
        "colab": {
          "base_uri": "https://localhost:8080/"
        },
        "id": "FyVp3DDr0dLI",
        "outputId": "baa798f9-036f-4219-8456-55b81d46b1c6"
      },
      "source": [
        "cd /content/optimisation/flexible/"
      ],
      "execution_count": 3,
      "outputs": [
        {
          "output_type": "stream",
          "text": [
            "/content/optimisation/flexible\n"
          ],
          "name": "stdout"
        }
      ]
    },
    {
      "cell_type": "markdown",
      "metadata": {
        "id": "Bz6QZsaHJmwy"
      },
      "source": [
        "**non-controlable energy < generated energy < (non-controlable energy + flexible energy)**"
      ]
    },
    {
      "cell_type": "code",
      "metadata": {
        "colab": {
          "base_uri": "https://localhost:8080/"
        },
        "id": "W_p9PyfC0hvO",
        "outputId": "5cee9dc1-7332-432c-d20e-6f2b25754ece"
      },
      "source": [
        "Flexibleindex = pd.read_csv(\"flexibleIndex.csv\")\n",
        "Consumer = list(Flexibleindex['Unnamed: 0'])\n",
        "Consumer1 = list(Flexibleindex['Unnamed: 0'])\n",
        "Consumer"
      ],
      "execution_count": 4,
      "outputs": [
        {
          "output_type": "execute_result",
          "data": {
            "text/plain": [
              "['C1', 'C2', 'C3', 'C4', 'C5', 'C6', 'C7', 'C8', 'C9', 'C10']"
            ]
          },
          "metadata": {
            "tags": []
          },
          "execution_count": 4
        }
      ]
    },
    {
      "cell_type": "code",
      "metadata": {
        "colab": {
          "base_uri": "https://localhost:8080/",
          "height": 359
        },
        "id": "B6mvP9MD0k2e",
        "outputId": "5a6e17ee-f45e-4e8f-c20a-d4d7b4a3bc76"
      },
      "source": [
        "flexibleindex = pd.read_csv(\"flexibleIndex.csv\", index_col=0)\n",
        "flexibleindex"
      ],
      "execution_count": 5,
      "outputs": [
        {
          "output_type": "execute_result",
          "data": {
            "text/html": [
              "<div>\n",
              "<style scoped>\n",
              "    .dataframe tbody tr th:only-of-type {\n",
              "        vertical-align: middle;\n",
              "    }\n",
              "\n",
              "    .dataframe tbody tr th {\n",
              "        vertical-align: top;\n",
              "    }\n",
              "\n",
              "    .dataframe thead th {\n",
              "        text-align: right;\n",
              "    }\n",
              "</style>\n",
              "<table border=\"1\" class=\"dataframe\">\n",
              "  <thead>\n",
              "    <tr style=\"text-align: right;\">\n",
              "      <th></th>\n",
              "      <th>TV</th>\n",
              "      <th>Heater</th>\n",
              "      <th>WashingMachine</th>\n",
              "      <th>Dryer</th>\n",
              "      <th>Fridger</th>\n",
              "      <th>Airconditioner</th>\n",
              "      <th>InductionCooker</th>\n",
              "    </tr>\n",
              "  </thead>\n",
              "  <tbody>\n",
              "    <tr>\n",
              "      <th>C1</th>\n",
              "      <td>0</td>\n",
              "      <td>0</td>\n",
              "      <td>1</td>\n",
              "      <td>1</td>\n",
              "      <td>0</td>\n",
              "      <td>1</td>\n",
              "      <td>0</td>\n",
              "    </tr>\n",
              "    <tr>\n",
              "      <th>C2</th>\n",
              "      <td>1</td>\n",
              "      <td>0</td>\n",
              "      <td>1</td>\n",
              "      <td>0</td>\n",
              "      <td>0</td>\n",
              "      <td>1</td>\n",
              "      <td>0</td>\n",
              "    </tr>\n",
              "    <tr>\n",
              "      <th>C3</th>\n",
              "      <td>1</td>\n",
              "      <td>0</td>\n",
              "      <td>0</td>\n",
              "      <td>1</td>\n",
              "      <td>0</td>\n",
              "      <td>1</td>\n",
              "      <td>0</td>\n",
              "    </tr>\n",
              "    <tr>\n",
              "      <th>C4</th>\n",
              "      <td>0</td>\n",
              "      <td>1</td>\n",
              "      <td>0</td>\n",
              "      <td>1</td>\n",
              "      <td>1</td>\n",
              "      <td>0</td>\n",
              "      <td>1</td>\n",
              "    </tr>\n",
              "    <tr>\n",
              "      <th>C5</th>\n",
              "      <td>1</td>\n",
              "      <td>0</td>\n",
              "      <td>1</td>\n",
              "      <td>0</td>\n",
              "      <td>1</td>\n",
              "      <td>0</td>\n",
              "      <td>0</td>\n",
              "    </tr>\n",
              "    <tr>\n",
              "      <th>C6</th>\n",
              "      <td>0</td>\n",
              "      <td>1</td>\n",
              "      <td>0</td>\n",
              "      <td>1</td>\n",
              "      <td>0</td>\n",
              "      <td>1</td>\n",
              "      <td>0</td>\n",
              "    </tr>\n",
              "    <tr>\n",
              "      <th>C7</th>\n",
              "      <td>0</td>\n",
              "      <td>0</td>\n",
              "      <td>0</td>\n",
              "      <td>1</td>\n",
              "      <td>0</td>\n",
              "      <td>1</td>\n",
              "      <td>1</td>\n",
              "    </tr>\n",
              "    <tr>\n",
              "      <th>C8</th>\n",
              "      <td>1</td>\n",
              "      <td>0</td>\n",
              "      <td>0</td>\n",
              "      <td>1</td>\n",
              "      <td>0</td>\n",
              "      <td>0</td>\n",
              "      <td>1</td>\n",
              "    </tr>\n",
              "    <tr>\n",
              "      <th>C9</th>\n",
              "      <td>0</td>\n",
              "      <td>0</td>\n",
              "      <td>0</td>\n",
              "      <td>1</td>\n",
              "      <td>0</td>\n",
              "      <td>0</td>\n",
              "      <td>0</td>\n",
              "    </tr>\n",
              "    <tr>\n",
              "      <th>C10</th>\n",
              "      <td>1</td>\n",
              "      <td>1</td>\n",
              "      <td>1</td>\n",
              "      <td>0</td>\n",
              "      <td>0</td>\n",
              "      <td>0</td>\n",
              "      <td>1</td>\n",
              "    </tr>\n",
              "  </tbody>\n",
              "</table>\n",
              "</div>"
            ],
            "text/plain": [
              "     TV  Heater  WashingMachine  ...  Fridger  Airconditioner  InductionCooker\n",
              "C1    0       0               1  ...        0               1                0\n",
              "C2    1       0               1  ...        0               1                0\n",
              "C3    1       0               0  ...        0               1                0\n",
              "C4    0       1               0  ...        1               0                1\n",
              "C5    1       0               1  ...        1               0                0\n",
              "C6    0       1               0  ...        0               1                0\n",
              "C7    0       0               0  ...        0               1                1\n",
              "C8    1       0               0  ...        0               0                1\n",
              "C9    0       0               0  ...        0               0                0\n",
              "C10   1       1               1  ...        0               0                1\n",
              "\n",
              "[10 rows x 7 columns]"
            ]
          },
          "metadata": {
            "tags": []
          },
          "execution_count": 5
        }
      ]
    },
    {
      "cell_type": "code",
      "metadata": {
        "colab": {
          "base_uri": "https://localhost:8080/",
          "height": 359
        },
        "id": "UUvBo6-j0mVe",
        "outputId": "21b32925-69e0-4971-b6c4-884dbacd7136"
      },
      "source": [
        "power = pd.read_csv('power.csv', index_col=0)\n",
        "power"
      ],
      "execution_count": 6,
      "outputs": [
        {
          "output_type": "execute_result",
          "data": {
            "text/html": [
              "<div>\n",
              "<style scoped>\n",
              "    .dataframe tbody tr th:only-of-type {\n",
              "        vertical-align: middle;\n",
              "    }\n",
              "\n",
              "    .dataframe tbody tr th {\n",
              "        vertical-align: top;\n",
              "    }\n",
              "\n",
              "    .dataframe thead th {\n",
              "        text-align: right;\n",
              "    }\n",
              "</style>\n",
              "<table border=\"1\" class=\"dataframe\">\n",
              "  <thead>\n",
              "    <tr style=\"text-align: right;\">\n",
              "      <th></th>\n",
              "      <th>TV</th>\n",
              "      <th>Heater</th>\n",
              "      <th>WashingMachine</th>\n",
              "      <th>Dryer</th>\n",
              "      <th>Fridger</th>\n",
              "      <th>Airconditioner</th>\n",
              "      <th>InductionCooker</th>\n",
              "    </tr>\n",
              "  </thead>\n",
              "  <tbody>\n",
              "    <tr>\n",
              "      <th>C1</th>\n",
              "      <td>2</td>\n",
              "      <td>4</td>\n",
              "      <td>4</td>\n",
              "      <td>8</td>\n",
              "      <td>2</td>\n",
              "      <td>5</td>\n",
              "      <td>5</td>\n",
              "    </tr>\n",
              "    <tr>\n",
              "      <th>C2</th>\n",
              "      <td>2</td>\n",
              "      <td>7</td>\n",
              "      <td>4</td>\n",
              "      <td>5</td>\n",
              "      <td>1</td>\n",
              "      <td>3</td>\n",
              "      <td>5</td>\n",
              "    </tr>\n",
              "    <tr>\n",
              "      <th>C3</th>\n",
              "      <td>2</td>\n",
              "      <td>5</td>\n",
              "      <td>2</td>\n",
              "      <td>5</td>\n",
              "      <td>2</td>\n",
              "      <td>4</td>\n",
              "      <td>4</td>\n",
              "    </tr>\n",
              "    <tr>\n",
              "      <th>C4</th>\n",
              "      <td>2</td>\n",
              "      <td>8</td>\n",
              "      <td>3</td>\n",
              "      <td>5</td>\n",
              "      <td>1</td>\n",
              "      <td>4</td>\n",
              "      <td>4</td>\n",
              "    </tr>\n",
              "    <tr>\n",
              "      <th>C5</th>\n",
              "      <td>2</td>\n",
              "      <td>5</td>\n",
              "      <td>4</td>\n",
              "      <td>5</td>\n",
              "      <td>2</td>\n",
              "      <td>3</td>\n",
              "      <td>6</td>\n",
              "    </tr>\n",
              "    <tr>\n",
              "      <th>C6</th>\n",
              "      <td>1</td>\n",
              "      <td>6</td>\n",
              "      <td>2</td>\n",
              "      <td>6</td>\n",
              "      <td>1</td>\n",
              "      <td>5</td>\n",
              "      <td>5</td>\n",
              "    </tr>\n",
              "    <tr>\n",
              "      <th>C7</th>\n",
              "      <td>1</td>\n",
              "      <td>7</td>\n",
              "      <td>4</td>\n",
              "      <td>5</td>\n",
              "      <td>1</td>\n",
              "      <td>5</td>\n",
              "      <td>6</td>\n",
              "    </tr>\n",
              "    <tr>\n",
              "      <th>C8</th>\n",
              "      <td>1</td>\n",
              "      <td>7</td>\n",
              "      <td>2</td>\n",
              "      <td>6</td>\n",
              "      <td>1</td>\n",
              "      <td>3</td>\n",
              "      <td>4</td>\n",
              "    </tr>\n",
              "    <tr>\n",
              "      <th>C9</th>\n",
              "      <td>1</td>\n",
              "      <td>4</td>\n",
              "      <td>4</td>\n",
              "      <td>6</td>\n",
              "      <td>1</td>\n",
              "      <td>5</td>\n",
              "      <td>5</td>\n",
              "    </tr>\n",
              "    <tr>\n",
              "      <th>C10</th>\n",
              "      <td>2</td>\n",
              "      <td>8</td>\n",
              "      <td>2</td>\n",
              "      <td>5</td>\n",
              "      <td>1</td>\n",
              "      <td>4</td>\n",
              "      <td>5</td>\n",
              "    </tr>\n",
              "  </tbody>\n",
              "</table>\n",
              "</div>"
            ],
            "text/plain": [
              "     TV  Heater  WashingMachine  ...  Fridger  Airconditioner  InductionCooker\n",
              "C1    2       4               4  ...        2               5                5\n",
              "C2    2       7               4  ...        1               3                5\n",
              "C3    2       5               2  ...        2               4                4\n",
              "C4    2       8               3  ...        1               4                4\n",
              "C5    2       5               4  ...        2               3                6\n",
              "C6    1       6               2  ...        1               5                5\n",
              "C7    1       7               4  ...        1               5                6\n",
              "C8    1       7               2  ...        1               3                4\n",
              "C9    1       4               4  ...        1               5                5\n",
              "C10   2       8               2  ...        1               4                5\n",
              "\n",
              "[10 rows x 7 columns]"
            ]
          },
          "metadata": {
            "tags": []
          },
          "execution_count": 6
        }
      ]
    },
    {
      "cell_type": "code",
      "metadata": {
        "colab": {
          "base_uri": "https://localhost:8080/"
        },
        "id": "5cEPeDcj0u1H",
        "outputId": "64a5b1b9-c0a2-415e-fc71-b65be4475608"
      },
      "source": [
        "appliances = list(flexibleindex.keys())\n",
        "appliances"
      ],
      "execution_count": 7,
      "outputs": [
        {
          "output_type": "execute_result",
          "data": {
            "text/plain": [
              "['TV',\n",
              " 'Heater',\n",
              " 'WashingMachine',\n",
              " 'Dryer',\n",
              " 'Fridger',\n",
              " 'Airconditioner',\n",
              " 'InductionCooker']"
            ]
          },
          "metadata": {
            "tags": []
          },
          "execution_count": 7
        }
      ]
    },
    {
      "cell_type": "code",
      "metadata": {
        "colab": {
          "base_uri": "https://localhost:8080/",
          "height": 359
        },
        "id": "_hOG3N5u0wr9",
        "outputId": "ccd91a5b-da91-411f-dbfe-68feeca3f4b5"
      },
      "source": [
        "bid = pd.read_csv('bid.csv', index_col=0)\n",
        "bid"
      ],
      "execution_count": 8,
      "outputs": [
        {
          "output_type": "execute_result",
          "data": {
            "text/html": [
              "<div>\n",
              "<style scoped>\n",
              "    .dataframe tbody tr th:only-of-type {\n",
              "        vertical-align: middle;\n",
              "    }\n",
              "\n",
              "    .dataframe tbody tr th {\n",
              "        vertical-align: top;\n",
              "    }\n",
              "\n",
              "    .dataframe thead th {\n",
              "        text-align: right;\n",
              "    }\n",
              "</style>\n",
              "<table border=\"1\" class=\"dataframe\">\n",
              "  <thead>\n",
              "    <tr style=\"text-align: right;\">\n",
              "      <th></th>\n",
              "      <th>bid</th>\n",
              "    </tr>\n",
              "  </thead>\n",
              "  <tbody>\n",
              "    <tr>\n",
              "      <th>C1</th>\n",
              "      <td>18</td>\n",
              "    </tr>\n",
              "    <tr>\n",
              "      <th>C2</th>\n",
              "      <td>15</td>\n",
              "    </tr>\n",
              "    <tr>\n",
              "      <th>C3</th>\n",
              "      <td>19</td>\n",
              "    </tr>\n",
              "    <tr>\n",
              "      <th>C4</th>\n",
              "      <td>21</td>\n",
              "    </tr>\n",
              "    <tr>\n",
              "      <th>C5</th>\n",
              "      <td>22</td>\n",
              "    </tr>\n",
              "    <tr>\n",
              "      <th>C6</th>\n",
              "      <td>20</td>\n",
              "    </tr>\n",
              "    <tr>\n",
              "      <th>C7</th>\n",
              "      <td>17</td>\n",
              "    </tr>\n",
              "    <tr>\n",
              "      <th>C8</th>\n",
              "      <td>16</td>\n",
              "    </tr>\n",
              "    <tr>\n",
              "      <th>C9</th>\n",
              "      <td>18</td>\n",
              "    </tr>\n",
              "    <tr>\n",
              "      <th>C10</th>\n",
              "      <td>21</td>\n",
              "    </tr>\n",
              "  </tbody>\n",
              "</table>\n",
              "</div>"
            ],
            "text/plain": [
              "     bid\n",
              "C1    18\n",
              "C2    15\n",
              "C3    19\n",
              "C4    21\n",
              "C5    22\n",
              "C6    20\n",
              "C7    17\n",
              "C8    16\n",
              "C9    18\n",
              "C10   21"
            ]
          },
          "metadata": {
            "tags": []
          },
          "execution_count": 8
        }
      ]
    },
    {
      "cell_type": "code",
      "metadata": {
        "colab": {
          "base_uri": "https://localhost:8080/"
        },
        "id": "GXiRzylN1NM9",
        "outputId": "b29a2c3f-5171-464e-c452-677bd7e30e0c"
      },
      "source": [
        "n = len(bid)\n",
        "consumer = [] \n",
        "while n != 0:\n",
        "    max = Consumer[0]\n",
        "    for i in range(0,n):\n",
        "      if bid['bid'][max] < bid['bid'][Consumer[i]]:\n",
        "          max = Consumer[i]\n",
        "      else:\n",
        "          max = max\n",
        "    consumer.append(max)      \n",
        "    Consumer.remove(max)\n",
        "    n -= 1\n",
        "print(Consumer)\n",
        "print(consumer)"
      ],
      "execution_count": 9,
      "outputs": [
        {
          "output_type": "stream",
          "text": [
            "[]\n",
            "['C5', 'C4', 'C10', 'C6', 'C3', 'C1', 'C9', 'C7', 'C8', 'C2']\n"
          ],
          "name": "stdout"
        }
      ]
    },
    {
      "cell_type": "code",
      "metadata": {
        "colab": {
          "base_uri": "https://localhost:8080/"
        },
        "id": "mFD_MY_F1Pze",
        "outputId": "e94f9fba-ec92-4e63-b2ac-7aeeaeefd5f6"
      },
      "source": [
        "generatedEnergy = pd.read_csv('generated energy.csv')\n",
        "Prosumer = list(generatedEnergy['Unnamed: 0'])\n",
        "Prosumer1 = list(generatedEnergy['Unnamed: 0'])\n",
        "Prosumer"
      ],
      "execution_count": 10,
      "outputs": [
        {
          "output_type": "execute_result",
          "data": {
            "text/plain": [
              "['P1', 'P2', 'P3', 'P4', 'P5', 'P6']"
            ]
          },
          "metadata": {
            "tags": []
          },
          "execution_count": 10
        }
      ]
    },
    {
      "cell_type": "code",
      "metadata": {
        "colab": {
          "base_uri": "https://localhost:8080/",
          "height": 235
        },
        "id": "QHqSx_pb1UaV",
        "outputId": "81fbf005-3bfe-4400-d529-601160f39a6b"
      },
      "source": [
        "generated_energy = pd.read_csv('generated energy.csv', index_col=0)\n",
        "generated_energy"
      ],
      "execution_count": 11,
      "outputs": [
        {
          "output_type": "execute_result",
          "data": {
            "text/html": [
              "<div>\n",
              "<style scoped>\n",
              "    .dataframe tbody tr th:only-of-type {\n",
              "        vertical-align: middle;\n",
              "    }\n",
              "\n",
              "    .dataframe tbody tr th {\n",
              "        vertical-align: top;\n",
              "    }\n",
              "\n",
              "    .dataframe thead th {\n",
              "        text-align: right;\n",
              "    }\n",
              "</style>\n",
              "<table border=\"1\" class=\"dataframe\">\n",
              "  <thead>\n",
              "    <tr style=\"text-align: right;\">\n",
              "      <th></th>\n",
              "      <th>generated energy</th>\n",
              "    </tr>\n",
              "  </thead>\n",
              "  <tbody>\n",
              "    <tr>\n",
              "      <th>P1</th>\n",
              "      <td>31</td>\n",
              "    </tr>\n",
              "    <tr>\n",
              "      <th>P2</th>\n",
              "      <td>25</td>\n",
              "    </tr>\n",
              "    <tr>\n",
              "      <th>P3</th>\n",
              "      <td>4</td>\n",
              "    </tr>\n",
              "    <tr>\n",
              "      <th>P4</th>\n",
              "      <td>23</td>\n",
              "    </tr>\n",
              "    <tr>\n",
              "      <th>P5</th>\n",
              "      <td>29</td>\n",
              "    </tr>\n",
              "    <tr>\n",
              "      <th>P6</th>\n",
              "      <td>32</td>\n",
              "    </tr>\n",
              "  </tbody>\n",
              "</table>\n",
              "</div>"
            ],
            "text/plain": [
              "    generated energy\n",
              "P1                31\n",
              "P2                25\n",
              "P3                 4\n",
              "P4                23\n",
              "P5                29\n",
              "P6                32"
            ]
          },
          "metadata": {
            "tags": []
          },
          "execution_count": 11
        }
      ]
    },
    {
      "cell_type": "code",
      "metadata": {
        "id": "xFTpUi011Von",
        "colab": {
          "base_uri": "https://localhost:8080/"
        },
        "outputId": "e52945d4-c49e-4b39-de99-e434d8cf5191"
      },
      "source": [
        "n = len(generated_energy)\n",
        "prosumer = [] \n",
        "while n != 0:\n",
        "    max = Prosumer[0]\n",
        "    for i in range(0,n):\n",
        "      if generated_energy['generated energy'][max] < generated_energy['generated energy'][Prosumer[i]]:\n",
        "          max = Prosumer[i]\n",
        "      else:\n",
        "          max = max\n",
        "    prosumer.append(max)      \n",
        "    Prosumer.remove(max)\n",
        "    n -= 1\n",
        "print(prosumer)\n",
        "print(Prosumer)"
      ],
      "execution_count": 12,
      "outputs": [
        {
          "output_type": "stream",
          "text": [
            "['P6', 'P1', 'P5', 'P2', 'P4', 'P3']\n",
            "[]\n"
          ],
          "name": "stdout"
        }
      ]
    },
    {
      "cell_type": "markdown",
      "metadata": {
        "id": "s1T-lJsX_jzQ"
      },
      "source": [
        "**Calaulate the total generated energy**"
      ]
    },
    {
      "cell_type": "code",
      "metadata": {
        "colab": {
          "base_uri": "https://localhost:8080/"
        },
        "id": "_IkmiZAS880u",
        "outputId": "0c6fbc97-c05c-4072-ef71-5febb7e8bf9f"
      },
      "source": [
        "TotalEnergy = 0\n",
        "\n",
        "for p in prosumer:\n",
        "    TotalEnergy += generated_energy['generated energy'][p]\n",
        "\n",
        "TotalEnergy"
      ],
      "execution_count": 13,
      "outputs": [
        {
          "output_type": "execute_result",
          "data": {
            "text/plain": [
              "144"
            ]
          },
          "metadata": {
            "tags": []
          },
          "execution_count": 13
        }
      ]
    },
    {
      "cell_type": "markdown",
      "metadata": {
        "id": "O5Kn1xzpAmRl"
      },
      "source": [
        "**Calculate the total energy of non-controlable loads and revenue** \n",
        "\n",
        "\n",
        "\n"
      ]
    },
    {
      "cell_type": "code",
      "metadata": {
        "colab": {
          "base_uri": "https://localhost:8080/"
        },
        "id": "BwaXhkIA0qYG",
        "outputId": "51c8d17c-a400-4d08-9d22-cfc51f96a177"
      },
      "source": [
        "demand = pd.read_csv('demand.csv', index_col=0)\n",
        "print(demand)\n",
        "\n",
        "d = 0\n",
        "for c in consumer:\n",
        "    d += demand['demand'][c]*bid['bid'][c]\n",
        "print(d)\n",
        "\n",
        "D = 0\n",
        "for c in consumer:\n",
        "    D += demand['demand'][c]\n",
        "print(D)"
      ],
      "execution_count": 14,
      "outputs": [
        {
          "output_type": "stream",
          "text": [
            "     demand\n",
            "C1        3\n",
            "C2       13\n",
            "C3        1\n",
            "C4        1\n",
            "C5        5\n",
            "C6        3\n",
            "C7        4\n",
            "C8        6\n",
            "C9        8\n",
            "C10       5\n",
            "872\n",
            "49\n"
          ],
          "name": "stdout"
        }
      ]
    },
    {
      "cell_type": "code",
      "metadata": {
        "id": "DyEiulB-1Zc9",
        "colab": {
          "base_uri": "https://localhost:8080/"
        },
        "outputId": "f843ecc6-ef85-4e5f-be7f-5775329bada9"
      },
      "source": [
        "model = ConcreteModel()\n",
        "model.dual = Suffix(direction=Suffix.IMPORT)\n",
        "\n",
        "model.switches = Var(appliances, consumer, domain = Binary)\n",
        "\n",
        "model.revenue = Objective(expr = d + sum(flexibleindex[a][c]*power[a][c]*bid['bid'][c]*model.switches[a, c] for c in consumer for a in appliances),\n",
        "                          sense = maximize)\n",
        "\n",
        "model.supply = Constraint(expr = (D + sum(flexibleindex[a][c]*power[a][c]*model.switches[a, c] for c in consumer for a in appliances)) <= TotalEnergy)\n",
        "\n",
        "\n",
        "results = SolverFactory('cbc').solve(model)\n",
        "results.write()"
      ],
      "execution_count": 15,
      "outputs": [
        {
          "output_type": "stream",
          "text": [
            "# ==========================================================\n",
            "# = Solver Results                                         =\n",
            "# ==========================================================\n",
            "# ----------------------------------------------------------\n",
            "#   Problem Information\n",
            "# ----------------------------------------------------------\n",
            "Problem: \n",
            "- Name: unknown\n",
            "  Lower bound: 2762.0\n",
            "  Upper bound: 2762.0\n",
            "  Number of objectives: 1\n",
            "  Number of constraints: 1\n",
            "  Number of variables: 30\n",
            "  Number of binary variables: 30\n",
            "  Number of integer variables: 30\n",
            "  Number of nonzeros: 30\n",
            "  Sense: maximize\n",
            "# ----------------------------------------------------------\n",
            "#   Solver Information\n",
            "# ----------------------------------------------------------\n",
            "Solver: \n",
            "- Status: ok\n",
            "  User time: -1.0\n",
            "  System time: 0.01\n",
            "  Wallclock time: 0.01\n",
            "  Termination condition: optimal\n",
            "  Termination message: Model was solved to optimality (subject to tolerances), and an optimal solution is available.\n",
            "  Statistics: \n",
            "    Branch and bound: \n",
            "      Number of bounded subproblems: 0\n",
            "      Number of created subproblems: 0\n",
            "    Black box: \n",
            "      Number of iterations: 0\n",
            "  Error rc: 0\n",
            "  Time: 0.030957937240600586\n",
            "# ----------------------------------------------------------\n",
            "#   Solution Information\n",
            "# ----------------------------------------------------------\n",
            "Solution: \n",
            "- number of solutions: 0\n",
            "  number of solutions displayed: 0\n"
          ],
          "name": "stdout"
        }
      ]
    },
    {
      "cell_type": "code",
      "metadata": {
        "colab": {
          "base_uri": "https://localhost:8080/"
        },
        "id": "Aqt8iOBm9-hb",
        "outputId": "04c1116b-d730-4d95-8e96-4479e26dc8d8"
      },
      "source": [
        "for c in Consumer1:\n",
        "    for a in appliances:\n",
        "        if model.switches[a,c]() == 1:\n",
        "          print(\"{:<5s} {:<2s} {:<12} {:<15} {:<8}\".format('User', c , ': The state of', a,'is ON'))\n",
        "        elif model.switches[a,c]() == 0:\n",
        "          print(\"{:<5s} {:<2s} {:<12} {:<15} {:<8}\".format('User', c , ': The state of', a,'is OFF'))\n",
        "        else:\n",
        "          print(\"{:<5s} {:<2s} {:<12} {:<15} {:<8}\".format('User', c , ': The state of', a,'is UNCONTROLABLE'))\n",
        "    print('\\n')"
      ],
      "execution_count": 16,
      "outputs": [
        {
          "output_type": "stream",
          "text": [
            "User  C1 : The state of TV              is UNCONTROLABLE\n",
            "User  C1 : The state of Heater          is UNCONTROLABLE\n",
            "User  C1 : The state of WashingMachine  is ON   \n",
            "User  C1 : The state of Dryer           is ON   \n",
            "User  C1 : The state of Fridger         is UNCONTROLABLE\n",
            "User  C1 : The state of Airconditioner  is ON   \n",
            "User  C1 : The state of InductionCooker is UNCONTROLABLE\n",
            "\n",
            "\n",
            "User  C2 : The state of TV              is OFF  \n",
            "User  C2 : The state of Heater          is UNCONTROLABLE\n",
            "User  C2 : The state of WashingMachine  is OFF  \n",
            "User  C2 : The state of Dryer           is UNCONTROLABLE\n",
            "User  C2 : The state of Fridger         is UNCONTROLABLE\n",
            "User  C2 : The state of Airconditioner  is OFF  \n",
            "User  C2 : The state of InductionCooker is UNCONTROLABLE\n",
            "\n",
            "\n",
            "User  C3 : The state of TV              is ON   \n",
            "User  C3 : The state of Heater          is UNCONTROLABLE\n",
            "User  C3 : The state of WashingMachine  is UNCONTROLABLE\n",
            "User  C3 : The state of Dryer           is ON   \n",
            "User  C3 : The state of Fridger         is UNCONTROLABLE\n",
            "User  C3 : The state of Airconditioner  is ON   \n",
            "User  C3 : The state of InductionCooker is UNCONTROLABLE\n",
            "\n",
            "\n",
            "User  C4 : The state of TV              is UNCONTROLABLE\n",
            "User  C4 : The state of Heater          is ON   \n",
            "User  C4 : The state of WashingMachine  is UNCONTROLABLE\n",
            "User  C4 : The state of Dryer           is ON   \n",
            "User  C4 : The state of Fridger         is ON   \n",
            "User  C4 : The state of Airconditioner  is UNCONTROLABLE\n",
            "User  C4 : The state of InductionCooker is ON   \n",
            "\n",
            "\n",
            "User  C5 : The state of TV              is ON   \n",
            "User  C5 : The state of Heater          is UNCONTROLABLE\n",
            "User  C5 : The state of WashingMachine  is ON   \n",
            "User  C5 : The state of Dryer           is UNCONTROLABLE\n",
            "User  C5 : The state of Fridger         is ON   \n",
            "User  C5 : The state of Airconditioner  is UNCONTROLABLE\n",
            "User  C5 : The state of InductionCooker is UNCONTROLABLE\n",
            "\n",
            "\n",
            "User  C6 : The state of TV              is UNCONTROLABLE\n",
            "User  C6 : The state of Heater          is ON   \n",
            "User  C6 : The state of WashingMachine  is UNCONTROLABLE\n",
            "User  C6 : The state of Dryer           is ON   \n",
            "User  C6 : The state of Fridger         is UNCONTROLABLE\n",
            "User  C6 : The state of Airconditioner  is ON   \n",
            "User  C6 : The state of InductionCooker is UNCONTROLABLE\n",
            "\n",
            "\n",
            "User  C7 : The state of TV              is UNCONTROLABLE\n",
            "User  C7 : The state of Heater          is UNCONTROLABLE\n",
            "User  C7 : The state of WashingMachine  is UNCONTROLABLE\n",
            "User  C7 : The state of Dryer           is OFF  \n",
            "User  C7 : The state of Fridger         is UNCONTROLABLE\n",
            "User  C7 : The state of Airconditioner  is OFF  \n",
            "User  C7 : The state of InductionCooker is OFF  \n",
            "\n",
            "\n",
            "User  C8 : The state of TV              is ON   \n",
            "User  C8 : The state of Heater          is UNCONTROLABLE\n",
            "User  C8 : The state of WashingMachine  is UNCONTROLABLE\n",
            "User  C8 : The state of Dryer           is OFF  \n",
            "User  C8 : The state of Fridger         is UNCONTROLABLE\n",
            "User  C8 : The state of Airconditioner  is UNCONTROLABLE\n",
            "User  C8 : The state of InductionCooker is OFF  \n",
            "\n",
            "\n",
            "User  C9 : The state of TV              is UNCONTROLABLE\n",
            "User  C9 : The state of Heater          is UNCONTROLABLE\n",
            "User  C9 : The state of WashingMachine  is UNCONTROLABLE\n",
            "User  C9 : The state of Dryer           is ON   \n",
            "User  C9 : The state of Fridger         is UNCONTROLABLE\n",
            "User  C9 : The state of Airconditioner  is UNCONTROLABLE\n",
            "User  C9 : The state of InductionCooker is UNCONTROLABLE\n",
            "\n",
            "\n",
            "User  C10 : The state of TV              is ON   \n",
            "User  C10 : The state of Heater          is ON   \n",
            "User  C10 : The state of WashingMachine  is ON   \n",
            "User  C10 : The state of Dryer           is UNCONTROLABLE\n",
            "User  C10 : The state of Fridger         is UNCONTROLABLE\n",
            "User  C10 : The state of Airconditioner  is UNCONTROLABLE\n",
            "User  C10 : The state of InductionCooker is ON   \n",
            "\n",
            "\n"
          ],
          "name": "stdout"
        }
      ]
    },
    {
      "cell_type": "markdown",
      "metadata": {
        "id": "71DwvyJfA-Yh"
      },
      "source": [
        "**Calculating the optimized energy demand**"
      ]
    },
    {
      "cell_type": "code",
      "metadata": {
        "colab": {
          "base_uri": "https://localhost:8080/",
          "height": 359
        },
        "id": "Zj9hHw_mNyXW",
        "outputId": "7a809fe9-ebad-47c9-c6ac-7d2df297578b"
      },
      "source": [
        "for c in consumer:\n",
        "    for a in appliances:\n",
        "        if model.switches[a, c]() != None:\n",
        "            demand['demand'][c] += power[a][c]*model.switches[a, c]()\n",
        "\n",
        "demand"
      ],
      "execution_count": 17,
      "outputs": [
        {
          "output_type": "execute_result",
          "data": {
            "text/html": [
              "<div>\n",
              "<style scoped>\n",
              "    .dataframe tbody tr th:only-of-type {\n",
              "        vertical-align: middle;\n",
              "    }\n",
              "\n",
              "    .dataframe tbody tr th {\n",
              "        vertical-align: top;\n",
              "    }\n",
              "\n",
              "    .dataframe thead th {\n",
              "        text-align: right;\n",
              "    }\n",
              "</style>\n",
              "<table border=\"1\" class=\"dataframe\">\n",
              "  <thead>\n",
              "    <tr style=\"text-align: right;\">\n",
              "      <th></th>\n",
              "      <th>demand</th>\n",
              "    </tr>\n",
              "  </thead>\n",
              "  <tbody>\n",
              "    <tr>\n",
              "      <th>C1</th>\n",
              "      <td>20</td>\n",
              "    </tr>\n",
              "    <tr>\n",
              "      <th>C2</th>\n",
              "      <td>13</td>\n",
              "    </tr>\n",
              "    <tr>\n",
              "      <th>C3</th>\n",
              "      <td>12</td>\n",
              "    </tr>\n",
              "    <tr>\n",
              "      <th>C4</th>\n",
              "      <td>19</td>\n",
              "    </tr>\n",
              "    <tr>\n",
              "      <th>C5</th>\n",
              "      <td>13</td>\n",
              "    </tr>\n",
              "    <tr>\n",
              "      <th>C6</th>\n",
              "      <td>20</td>\n",
              "    </tr>\n",
              "    <tr>\n",
              "      <th>C7</th>\n",
              "      <td>4</td>\n",
              "    </tr>\n",
              "    <tr>\n",
              "      <th>C8</th>\n",
              "      <td>7</td>\n",
              "    </tr>\n",
              "    <tr>\n",
              "      <th>C9</th>\n",
              "      <td>14</td>\n",
              "    </tr>\n",
              "    <tr>\n",
              "      <th>C10</th>\n",
              "      <td>22</td>\n",
              "    </tr>\n",
              "  </tbody>\n",
              "</table>\n",
              "</div>"
            ],
            "text/plain": [
              "     demand\n",
              "C1       20\n",
              "C2       13\n",
              "C3       12\n",
              "C4       19\n",
              "C5       13\n",
              "C6       20\n",
              "C7        4\n",
              "C8        7\n",
              "C9       14\n",
              "C10      22"
            ]
          },
          "metadata": {
            "tags": []
          },
          "execution_count": 17
        }
      ]
    },
    {
      "cell_type": "code",
      "metadata": {
        "colab": {
          "base_uri": "https://localhost:8080/"
        },
        "id": "WajXHGG3Q7uP",
        "outputId": "8531429b-d38d-4f3c-cee7-c0bebf28cf79"
      },
      "source": [
        "Model = ConcreteModel()\n",
        "Model.dual = Suffix(direction=Suffix.IMPORT)\n",
        "\n",
        "Model.transport = Var(prosumer, consumer , domain = NonNegativeReals)\n",
        "\n",
        "Model.revenue = Objective(expr = sum(Model.transport[p, c]*bid['bid'][c] for p in prosumer for c in consumer), \n",
        "                           sense = maximize)\n",
        "\n",
        "Model.supply = ConstraintList()\n",
        "for p in prosumer:\n",
        "      Model.supply.add(sum(Model.transport[p, c] for c in consumer) <= generated_energy['generated energy'][p])\n",
        "\n",
        "Model.demand = ConstraintList()\n",
        "for c in consumer:\n",
        "      Model.demand.add(sum(Model.transport[p, c] for p in prosumer) == demand['demand'][c])\n",
        "\n",
        "results = SolverFactory('cbc').solve(Model)\n",
        "results.write()"
      ],
      "execution_count": 18,
      "outputs": [
        {
          "output_type": "stream",
          "text": [
            "# ==========================================================\n",
            "# = Solver Results                                         =\n",
            "# ==========================================================\n",
            "# ----------------------------------------------------------\n",
            "#   Problem Information\n",
            "# ----------------------------------------------------------\n",
            "Problem: \n",
            "- Name: unknown\n",
            "  Lower bound: 2762.0\n",
            "  Upper bound: 2762.0\n",
            "  Number of objectives: 1\n",
            "  Number of constraints: 17\n",
            "  Number of variables: 61\n",
            "  Number of nonzeros: 60\n",
            "  Sense: maximize\n",
            "# ----------------------------------------------------------\n",
            "#   Solver Information\n",
            "# ----------------------------------------------------------\n",
            "Solver: \n",
            "- Status: ok\n",
            "  User time: -1.0\n",
            "  System time: 0.0\n",
            "  Wallclock time: 0.0\n",
            "  Termination condition: optimal\n",
            "  Termination message: Model was solved to optimality (subject to tolerances), and an optimal solution is available.\n",
            "  Statistics: \n",
            "    Branch and bound: \n",
            "      Number of bounded subproblems: None\n",
            "      Number of created subproblems: None\n",
            "    Black box: \n",
            "      Number of iterations: 23\n",
            "  Error rc: 0\n",
            "  Time: 0.017017602920532227\n",
            "# ----------------------------------------------------------\n",
            "#   Solution Information\n",
            "# ----------------------------------------------------------\n",
            "Solution: \n",
            "- number of solutions: 0\n",
            "  number of solutions displayed: 0\n"
          ],
          "name": "stdout"
        }
      ]
    },
    {
      "cell_type": "code",
      "metadata": {
        "colab": {
          "base_uri": "https://localhost:8080/"
        },
        "id": "WmWwTqsiTURM",
        "outputId": "f294c895-4867-4f26-b18e-d5a4d6907138"
      },
      "source": [
        "for p in prosumer:\n",
        "    for c in consumer:\n",
        "        print(p, c, Model.transport[p,c]())"
      ],
      "execution_count": 19,
      "outputs": [
        {
          "output_type": "stream",
          "text": [
            "P6 C5 13.0\n",
            "P6 C4 0.0\n",
            "P6 C10 0.0\n",
            "P6 C6 0.0\n",
            "P6 C3 0.0\n",
            "P6 C1 12.0\n",
            "P6 C9 0.0\n",
            "P6 C7 0.0\n",
            "P6 C8 7.0\n",
            "P6 C2 0.0\n",
            "P1 C5 0.0\n",
            "P1 C4 10.0\n",
            "P1 C10 0.0\n",
            "P1 C6 0.0\n",
            "P1 C3 7.0\n",
            "P1 C1 0.0\n",
            "P1 C9 14.0\n",
            "P1 C7 0.0\n",
            "P1 C8 0.0\n",
            "P1 C2 0.0\n",
            "P5 C5 0.0\n",
            "P5 C4 0.0\n",
            "P5 C10 0.0\n",
            "P5 C6 20.0\n",
            "P5 C3 5.0\n",
            "P5 C1 0.0\n",
            "P5 C9 0.0\n",
            "P5 C7 4.0\n",
            "P5 C8 0.0\n",
            "P5 C2 0.0\n",
            "P2 C5 0.0\n",
            "P2 C4 9.0\n",
            "P2 C10 3.0\n",
            "P2 C6 0.0\n",
            "P2 C3 0.0\n",
            "P2 C1 0.0\n",
            "P2 C9 0.0\n",
            "P2 C7 0.0\n",
            "P2 C8 0.0\n",
            "P2 C2 13.0\n",
            "P4 C5 0.0\n",
            "P4 C4 0.0\n",
            "P4 C10 19.0\n",
            "P4 C6 0.0\n",
            "P4 C3 0.0\n",
            "P4 C1 4.0\n",
            "P4 C9 0.0\n",
            "P4 C7 0.0\n",
            "P4 C8 0.0\n",
            "P4 C2 0.0\n",
            "P3 C5 0.0\n",
            "P3 C4 0.0\n",
            "P3 C10 0.0\n",
            "P3 C6 0.0\n",
            "P3 C3 0.0\n",
            "P3 C1 4.0\n",
            "P3 C9 0.0\n",
            "P3 C7 0.0\n",
            "P3 C8 0.0\n",
            "P3 C2 0.0\n"
          ],
          "name": "stdout"
        }
      ]
    },
    {
      "cell_type": "code",
      "metadata": {
        "colab": {
          "base_uri": "https://localhost:8080/"
        },
        "id": "sXV1A5QxUY2O",
        "outputId": "77e63cd8-4bb3-40c5-d2dd-0ef00a488059"
      },
      "source": [
        "if 'ok' == str(results.Solver.status):\n",
        "    print(\"Total Community Revenue = \",model.revenue())\n",
        "    print(\"\\nTransport Table:\")\n",
        "    for p in Prosumer1:\n",
        "        for c in Consumer1:\n",
        "            if Model.transport[p,c]() > 0:\n",
        "                print(\"Transport from \", p,\" to \", c, \":\", Model.transport[p,c](),'KWh')\n",
        "else:\n",
        "    print(\"No Valid Solution Found\")"
      ],
      "execution_count": 20,
      "outputs": [
        {
          "output_type": "stream",
          "text": [
            "Total Community Revenue =  2762.0\n",
            "\n",
            "Transport Table:\n",
            "Transport from  P1  to  C3 : 7.0 KWh\n",
            "Transport from  P1  to  C4 : 10.0 KWh\n",
            "Transport from  P1  to  C9 : 14.0 KWh\n",
            "Transport from  P2  to  C2 : 13.0 KWh\n",
            "Transport from  P2  to  C4 : 9.0 KWh\n",
            "Transport from  P2  to  C10 : 3.0 KWh\n",
            "Transport from  P3  to  C1 : 4.0 KWh\n",
            "Transport from  P4  to  C1 : 4.0 KWh\n",
            "Transport from  P4  to  C10 : 19.0 KWh\n",
            "Transport from  P5  to  C3 : 5.0 KWh\n",
            "Transport from  P5  to  C6 : 20.0 KWh\n",
            "Transport from  P5  to  C7 : 4.0 KWh\n",
            "Transport from  P6  to  C1 : 12.0 KWh\n",
            "Transport from  P6  to  C5 : 13.0 KWh\n",
            "Transport from  P6  to  C8 : 7.0 KWh\n"
          ],
          "name": "stdout"
        }
      ]
    },
    {
      "cell_type": "code",
      "metadata": {
        "colab": {
          "base_uri": "https://localhost:8080/"
        },
        "id": "j9ZuR60fUqzR",
        "outputId": "ffa0b3af-bd4d-442b-e377-1f2b407e1e3b"
      },
      "source": [
        "n = 0\n",
        "if 'ok' == str(results.Solver.status):\n",
        "    print(\"Personal Revenue:\\n\")\n",
        "    for p in prosumer:\n",
        "        for c in consumer:\n",
        "            if Model.transport[p,c]() > 0:\n",
        "                print(\"Balance from \", c,\" to \", p, \":\", Model.transport[p,c]() * bid['bid'][c])\n",
        "else:\n",
        "    print(\"No Valid Solution Found\")"
      ],
      "execution_count": 21,
      "outputs": [
        {
          "output_type": "stream",
          "text": [
            "Personal Revenue:\n",
            "\n",
            "Balance from  C5  to  P6 : 286.0\n",
            "Balance from  C1  to  P6 : 216.0\n",
            "Balance from  C8  to  P6 : 112.0\n",
            "Balance from  C4  to  P1 : 210.0\n",
            "Balance from  C3  to  P1 : 133.0\n",
            "Balance from  C9  to  P1 : 252.0\n",
            "Balance from  C6  to  P5 : 400.0\n",
            "Balance from  C3  to  P5 : 95.0\n",
            "Balance from  C7  to  P5 : 68.0\n",
            "Balance from  C4  to  P2 : 189.0\n",
            "Balance from  C10  to  P2 : 63.0\n",
            "Balance from  C2  to  P2 : 195.0\n",
            "Balance from  C10  to  P4 : 399.0\n",
            "Balance from  C1  to  P4 : 72.0\n",
            "Balance from  C1  to  P3 : 72.0\n"
          ],
          "name": "stdout"
        }
      ]
    },
    {
      "cell_type": "code",
      "metadata": {
        "colab": {
          "base_uri": "https://localhost:8080/"
        },
        "id": "eLo9Ud3OUys4",
        "outputId": "392ef372-d394-4a71-e91a-492bb106f9d3"
      },
      "source": [
        "n = 0\n",
        "if 'ok' == str(results.Solver.status):\n",
        "    print(\"Personal Revenue:\\n\")\n",
        "    for p in prosumer:\n",
        "      for c in consumer:\n",
        "          n += Model.transport[p, c]() * bid['bid'][c] \n",
        "      print(\"The revenue of\",p ,\":\" , n)\n",
        "      n = 0\n",
        "else:\n",
        "    print(\"No Valid Solution Found\")"
      ],
      "execution_count": 22,
      "outputs": [
        {
          "output_type": "stream",
          "text": [
            "Personal Revenue:\n",
            "\n",
            "The revenue of P6 : 614.0\n",
            "The revenue of P1 : 595.0\n",
            "The revenue of P5 : 563.0\n",
            "The revenue of P2 : 447.0\n",
            "The revenue of P4 : 471.0\n",
            "The revenue of P3 : 72.0\n"
          ],
          "name": "stdout"
        }
      ]
    },
    {
      "cell_type": "code",
      "metadata": {
        "colab": {
          "base_uri": "https://localhost:8080/"
        },
        "id": "cgEM1mP8U6wX",
        "outputId": "311bf0d5-8414-4715-89f9-eebac24f81c9"
      },
      "source": [
        "n = 0\n",
        "if 'ok' == str(results.Solver.status):\n",
        "    print(\"The exported electricity to the grid:\\n\")\n",
        "    for p in prosumer:\n",
        "        n = generated_energy['generated energy'][p]\n",
        "        for c in consumer:\n",
        "            n -= Model.transport[p, c]()\n",
        "        if n > 0 :\n",
        "            print(p, \"will export \",n , \"KWh to the grid\") "
      ],
      "execution_count": 23,
      "outputs": [
        {
          "output_type": "stream",
          "text": [
            "The exported electricity to the grid:\n",
            "\n"
          ],
          "name": "stdout"
        }
      ]
    },
    {
      "cell_type": "code",
      "metadata": {
        "colab": {
          "base_uri": "https://localhost:8080/"
        },
        "id": "1YYG9-3DkRra",
        "outputId": "a2bebd8e-a2ca-400e-95e3-062baeefa932"
      },
      "source": [
        "n = 0\n",
        "if 'ok' == str(results.Solver.status):\n",
        "    print(\"Personal Revenue:\\n\")\n",
        "    for c in Consumer1:\n",
        "      for p in Prosumer1:\n",
        "          n += Model.transport[p, c]()\n",
        "      print(\"The received energy of\",c ,\":\" , n)\n",
        "      n = 0\n",
        "else:\n",
        "    print(\"No Valid Solution Found\")"
      ],
      "execution_count": 24,
      "outputs": [
        {
          "output_type": "stream",
          "text": [
            "Personal Revenue:\n",
            "\n",
            "The received energy of C1 : 20.0\n",
            "The received energy of C2 : 13.0\n",
            "The received energy of C3 : 12.0\n",
            "The received energy of C4 : 19.0\n",
            "The received energy of C5 : 13.0\n",
            "The received energy of C6 : 20.0\n",
            "The received energy of C7 : 4.0\n",
            "The received energy of C8 : 7.0\n",
            "The received energy of C9 : 14.0\n",
            "The received energy of C10 : 22.0\n"
          ],
          "name": "stdout"
        }
      ]
    }
  ]
}